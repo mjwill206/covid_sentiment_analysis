{
 "cells": [
  {
   "cell_type": "markdown",
   "metadata": {},
   "source": [
    "# Table of Contents\n",
    "1. [Imports](#Imports)\n",
    "2. [Reading in the Data](#Reading-in-the-Data)\n",
    "3. [Data Cleaning and EDA for Reddit](#Data-Cleaning-and-EDA-for-Reddit)\n",
    "\t1. [Data Visualization](#Data-Visualization)\n",
    "\t2. [Word Counts](#Word-Counts)\n",
    "\t3. [Frequently Used Words Using CountVectorizer](#Frequently-Used-Words-Using-CountVectorizer)\n",
    "\t\t1. [Bi-grams](#Bi-grams)\n",
    "4. [Data Cleaning and EDA for Twitter](#Data-Cleaning-and-EDA-for-Twitter)\n",
    "\t1. [Data Visualization](#Data-Visualization)\n",
    "\t2. [Word Counts](#Word-Counts)\n",
    "\t3. [Frequently Used Words Using CountVectorizer](#Frequently-Used-Words-Using-CountVectorizer)\n",
    "\t\t1. [Bi-grams](#Bi-grams)\n",
    "5. [EDA for COVID-19 Policies](#EDA-for-COVID-19-Policies)\n",
    "\t1. [Reopening](#Reopening)\n",
    "\t2. [Stay at Home](#Stay-at-Home)\n",
    "\t3. [Large Gatherings Ban](#Large-Gatherings-Ban)\n",
    "\t4. [Restaurant Limits](#Restaurant-Limits)\n",
    "\t5. [Bar closures](#Barclosures)\n",
    "\t6. [Face Coverings](#Face-Coverings)\n",
    "\t7. [Emergency Declaration](#Emergency-Declaration)\n",
    "6. [Cleaning for COVID-19 Health Data](#Cleaning-for-COVID-19-Health-Data)\n"
   ]
  },
  {
   "cell_type": "markdown",
   "metadata": {},
   "source": [
    "# Imports"
   ]
  },
  {
   "cell_type": "code",
   "execution_count": 1,
   "metadata": {},
   "outputs": [],
   "source": [
    "import pandas as pd\n",
    "import numpy as np\n",
    "import matplotlib.pyplot as plt\n",
    "import seaborn as sns\n",
    "\n",
    "from sklearn.feature_extraction.text import CountVectorizer, TfidfVectorizer\n",
    "from sklearn.feature_extraction import text\n",
    "from nltk.tokenize import word_tokenize, RegexpTokenizer\n",
    "from nltk.corpus import stopwords"
   ]
  },
  {
   "cell_type": "markdown",
   "metadata": {},
   "source": [
    "# Reading in the Data"
   ]
  },
  {
   "cell_type": "code",
   "execution_count": 2,
   "metadata": {},
   "outputs": [],
   "source": [
    "first_states = pd.read_csv('../data/first_25_states.csv')"
   ]
  },
  {
   "cell_type": "code",
   "execution_count": 3,
   "metadata": {},
   "outputs": [],
   "source": [
    "last_states = pd.read_csv('../data/last_25_states.csv')"
   ]
  },
  {
   "cell_type": "code",
   "execution_count": 4,
   "metadata": {},
   "outputs": [],
   "source": [
    "policies = pd.read_csv('../data/policies.csv')"
   ]
  },
  {
   "cell_type": "code",
   "execution_count": 5,
   "metadata": {},
   "outputs": [
    {
     "data": {
      "text/html": [
       "<div>\n",
       "<style scoped>\n",
       "    .dataframe tbody tr th:only-of-type {\n",
       "        vertical-align: middle;\n",
       "    }\n",
       "\n",
       "    .dataframe tbody tr th {\n",
       "        vertical-align: top;\n",
       "    }\n",
       "\n",
       "    .dataframe thead th {\n",
       "        text-align: right;\n",
       "    }\n",
       "</style>\n",
       "<table border=\"1\" class=\"dataframe\">\n",
       "  <thead>\n",
       "    <tr style=\"text-align: right;\">\n",
       "      <th></th>\n",
       "      <th>subreddit</th>\n",
       "      <th>author</th>\n",
       "      <th>title</th>\n",
       "      <th>selftext</th>\n",
       "      <th>score</th>\n",
       "      <th>created_utc</th>\n",
       "      <th>state</th>\n",
       "      <th>eastern_time</th>\n",
       "    </tr>\n",
       "  </thead>\n",
       "  <tbody>\n",
       "    <tr>\n",
       "      <th>0</th>\n",
       "      <td>CoronavirusAlabama</td>\n",
       "      <td>guarea</td>\n",
       "      <td>After public apology, Montgomery councilman’s ...</td>\n",
       "      <td>NaN</td>\n",
       "      <td>1</td>\n",
       "      <td>1593606973</td>\n",
       "      <td>alabama</td>\n",
       "      <td>2020-07-01 08:36:13</td>\n",
       "    </tr>\n",
       "    <tr>\n",
       "      <th>1</th>\n",
       "      <td>CoronavirusAlabama</td>\n",
       "      <td>guarea</td>\n",
       "      <td>University of Alabama graduate tells his COVID...</td>\n",
       "      <td>NaN</td>\n",
       "      <td>1</td>\n",
       "      <td>1593607132</td>\n",
       "      <td>alabama</td>\n",
       "      <td>2020-07-01 08:38:52</td>\n",
       "    </tr>\n",
       "    <tr>\n",
       "      <th>2</th>\n",
       "      <td>CoronavirusAlabama</td>\n",
       "      <td>guarea</td>\n",
       "      <td>Tuscaloosa adopts face mask law for public spaces</td>\n",
       "      <td>NaN</td>\n",
       "      <td>1</td>\n",
       "      <td>1593608257</td>\n",
       "      <td>alabama</td>\n",
       "      <td>2020-07-01 08:57:37</td>\n",
       "    </tr>\n",
       "    <tr>\n",
       "      <th>3</th>\n",
       "      <td>CoronavirusAlabama</td>\n",
       "      <td>guarea</td>\n",
       "      <td>Coin shortage due to coronavirus: What’s happe...</td>\n",
       "      <td>NaN</td>\n",
       "      <td>0</td>\n",
       "      <td>1593615060</td>\n",
       "      <td>alabama</td>\n",
       "      <td>2020-07-01 10:51:00</td>\n",
       "    </tr>\n",
       "    <tr>\n",
       "      <th>4</th>\n",
       "      <td>CoronavirusAlabama</td>\n",
       "      <td>houyam-love</td>\n",
       "      <td>[Study Results] How is Coronavirus Pandemic Af...</td>\n",
       "      <td>NaN</td>\n",
       "      <td>1</td>\n",
       "      <td>1593621148</td>\n",
       "      <td>alabama</td>\n",
       "      <td>2020-07-01 12:32:28</td>\n",
       "    </tr>\n",
       "  </tbody>\n",
       "</table>\n",
       "</div>"
      ],
      "text/plain": [
       "            subreddit       author  \\\n",
       "0  CoronavirusAlabama       guarea   \n",
       "1  CoronavirusAlabama       guarea   \n",
       "2  CoronavirusAlabama       guarea   \n",
       "3  CoronavirusAlabama       guarea   \n",
       "4  CoronavirusAlabama  houyam-love   \n",
       "\n",
       "                                               title selftext  score  \\\n",
       "0  After public apology, Montgomery councilman’s ...      NaN      1   \n",
       "1  University of Alabama graduate tells his COVID...      NaN      1   \n",
       "2  Tuscaloosa adopts face mask law for public spaces      NaN      1   \n",
       "3  Coin shortage due to coronavirus: What’s happe...      NaN      0   \n",
       "4  [Study Results] How is Coronavirus Pandemic Af...      NaN      1   \n",
       "\n",
       "   created_utc    state         eastern_time  \n",
       "0   1593606973  alabama  2020-07-01 08:36:13  \n",
       "1   1593607132  alabama  2020-07-01 08:38:52  \n",
       "2   1593608257  alabama  2020-07-01 08:57:37  \n",
       "3   1593615060  alabama  2020-07-01 10:51:00  \n",
       "4   1593621148  alabama  2020-07-01 12:32:28  "
      ]
     },
     "execution_count": 5,
     "metadata": {},
     "output_type": "execute_result"
    }
   ],
   "source": [
    "first_states.head()"
   ]
  },
  {
   "cell_type": "code",
   "execution_count": 6,
   "metadata": {},
   "outputs": [
    {
     "data": {
      "text/plain": [
       "(5755, 8)"
      ]
     },
     "execution_count": 6,
     "metadata": {},
     "output_type": "execute_result"
    }
   ],
   "source": [
    "first_states.shape"
   ]
  },
  {
   "cell_type": "code",
   "execution_count": 7,
   "metadata": {},
   "outputs": [
    {
     "data": {
      "text/html": [
       "<div>\n",
       "<style scoped>\n",
       "    .dataframe tbody tr th:only-of-type {\n",
       "        vertical-align: middle;\n",
       "    }\n",
       "\n",
       "    .dataframe tbody tr th {\n",
       "        vertical-align: top;\n",
       "    }\n",
       "\n",
       "    .dataframe thead th {\n",
       "        text-align: right;\n",
       "    }\n",
       "</style>\n",
       "<table border=\"1\" class=\"dataframe\">\n",
       "  <thead>\n",
       "    <tr style=\"text-align: right;\">\n",
       "      <th></th>\n",
       "      <th>subreddit</th>\n",
       "      <th>author</th>\n",
       "      <th>title</th>\n",
       "      <th>selftext</th>\n",
       "      <th>score</th>\n",
       "      <th>created_utc</th>\n",
       "      <th>state</th>\n",
       "      <th>eastern_time</th>\n",
       "    </tr>\n",
       "  </thead>\n",
       "  <tbody>\n",
       "    <tr>\n",
       "      <th>0</th>\n",
       "      <td>CoronavirusMontana</td>\n",
       "      <td>janeemarii</td>\n",
       "      <td>Montana Coronavirus Report | Montana Free Press</td>\n",
       "      <td>NaN</td>\n",
       "      <td>1</td>\n",
       "      <td>1594334770</td>\n",
       "      <td>montana</td>\n",
       "      <td>2020-07-09 16:46:10</td>\n",
       "    </tr>\n",
       "    <tr>\n",
       "      <th>1</th>\n",
       "      <td>CoronavirusMontana</td>\n",
       "      <td>janeemarii</td>\n",
       "      <td>Montana's Covid-19 Testing Information</td>\n",
       "      <td>NaN</td>\n",
       "      <td>1</td>\n",
       "      <td>1594502716</td>\n",
       "      <td>montana</td>\n",
       "      <td>2020-07-11 15:25:16</td>\n",
       "    </tr>\n",
       "    <tr>\n",
       "      <th>2</th>\n",
       "      <td>CoronavirusMontana</td>\n",
       "      <td>theeaglesfamski</td>\n",
       "      <td>Bullock announces mask requirements</td>\n",
       "      <td>NaN</td>\n",
       "      <td>1</td>\n",
       "      <td>1594846455</td>\n",
       "      <td>montana</td>\n",
       "      <td>2020-07-15 14:54:15</td>\n",
       "    </tr>\n",
       "    <tr>\n",
       "      <th>3</th>\n",
       "      <td>CoronavirusMontana</td>\n",
       "      <td>janeemarii</td>\n",
       "      <td>Helena High summer school goes online after st...</td>\n",
       "      <td>NaN</td>\n",
       "      <td>9</td>\n",
       "      <td>1595295829</td>\n",
       "      <td>montana</td>\n",
       "      <td>2020-07-20 19:43:49</td>\n",
       "    </tr>\n",
       "    <tr>\n",
       "      <th>4</th>\n",
       "      <td>CoronavirusMontana</td>\n",
       "      <td>BrightscapesArt</td>\n",
       "      <td>Art Project: Having Fun During Coronavirus</td>\n",
       "      <td>NaN</td>\n",
       "      <td>1</td>\n",
       "      <td>1595939075</td>\n",
       "      <td>montana</td>\n",
       "      <td>2020-07-28 06:24:35</td>\n",
       "    </tr>\n",
       "  </tbody>\n",
       "</table>\n",
       "</div>"
      ],
      "text/plain": [
       "            subreddit           author  \\\n",
       "0  CoronavirusMontana       janeemarii   \n",
       "1  CoronavirusMontana       janeemarii   \n",
       "2  CoronavirusMontana  theeaglesfamski   \n",
       "3  CoronavirusMontana       janeemarii   \n",
       "4  CoronavirusMontana  BrightscapesArt   \n",
       "\n",
       "                                               title selftext  score  \\\n",
       "0    Montana Coronavirus Report | Montana Free Press      NaN      1   \n",
       "1             Montana's Covid-19 Testing Information      NaN      1   \n",
       "2                Bullock announces mask requirements      NaN      1   \n",
       "3  Helena High summer school goes online after st...      NaN      9   \n",
       "4         Art Project: Having Fun During Coronavirus      NaN      1   \n",
       "\n",
       "   created_utc    state         eastern_time  \n",
       "0   1594334770  montana  2020-07-09 16:46:10  \n",
       "1   1594502716  montana  2020-07-11 15:25:16  \n",
       "2   1594846455  montana  2020-07-15 14:54:15  \n",
       "3   1595295829  montana  2020-07-20 19:43:49  \n",
       "4   1595939075  montana  2020-07-28 06:24:35  "
      ]
     },
     "execution_count": 7,
     "metadata": {},
     "output_type": "execute_result"
    }
   ],
   "source": [
    "last_states.head()"
   ]
  },
  {
   "cell_type": "code",
   "execution_count": 8,
   "metadata": {},
   "outputs": [
    {
     "data": {
      "text/plain": [
       "(4084, 8)"
      ]
     },
     "execution_count": 8,
     "metadata": {},
     "output_type": "execute_result"
    }
   ],
   "source": [
    "last_states.shape"
   ]
  },
  {
   "cell_type": "markdown",
   "metadata": {},
   "source": [
    "# Data Cleaning and EDA for Reddit"
   ]
  },
  {
   "cell_type": "code",
   "execution_count": 9,
   "metadata": {},
   "outputs": [],
   "source": [
    "df = pd.concat([first_states, last_states])"
   ]
  },
  {
   "cell_type": "code",
   "execution_count": 10,
   "metadata": {},
   "outputs": [],
   "source": [
    "df.reset_index(drop = True, inplace=True)"
   ]
  },
  {
   "cell_type": "code",
   "execution_count": 11,
   "metadata": {},
   "outputs": [
    {
     "data": {
      "text/plain": [
       "(9839, 8)"
      ]
     },
     "execution_count": 11,
     "metadata": {},
     "output_type": "execute_result"
    }
   ],
   "source": [
    "df.shape"
   ]
  },
  {
   "cell_type": "code",
   "execution_count": 12,
   "metadata": {},
   "outputs": [
    {
     "data": {
      "text/plain": [
       "subreddit          0\n",
       "author             0\n",
       "title              0\n",
       "selftext        6505\n",
       "score              0\n",
       "created_utc        0\n",
       "state              0\n",
       "eastern_time       0\n",
       "dtype: int64"
      ]
     },
     "execution_count": 12,
     "metadata": {},
     "output_type": "execute_result"
    }
   ],
   "source": [
    "df.isna().sum()"
   ]
  },
  {
   "cell_type": "code",
   "execution_count": 13,
   "metadata": {},
   "outputs": [],
   "source": [
    "def clean_title(title_cell):\n",
    "    if title_cell == '[removed]':\n",
    "        return np.nan\n",
    "    elif title_cell == '[deleted]':\n",
    "        return np.nan\n",
    "    else:\n",
    "        return title_cell"
   ]
  },
  {
   "cell_type": "code",
   "execution_count": 14,
   "metadata": {},
   "outputs": [],
   "source": [
    "df['title'] = df['title'].map(clean_title)"
   ]
  },
  {
   "cell_type": "code",
   "execution_count": 15,
   "metadata": {},
   "outputs": [
    {
     "data": {
      "text/plain": [
       "subreddit          0\n",
       "author             0\n",
       "title              0\n",
       "selftext        6505\n",
       "score              0\n",
       "created_utc        0\n",
       "state              0\n",
       "eastern_time       0\n",
       "dtype: int64"
      ]
     },
     "execution_count": 15,
     "metadata": {},
     "output_type": "execute_result"
    }
   ],
   "source": [
    "df.isna().sum()"
   ]
  },
  {
   "cell_type": "code",
   "execution_count": 16,
   "metadata": {},
   "outputs": [
    {
     "data": {
      "text/plain": [
       "texas                   1300\n",
       "arizona                  900\n",
       "california               900\n",
       "georgia                  700\n",
       "michigan                 600\n",
       "washington               580\n",
       "colorado                 500\n",
       "illinois                 400\n",
       "alabama                  400\n",
       "louisianna               400\n",
       "massachusetts            400\n",
       "pennsylvania             280\n",
       "tennessee                260\n",
       "new_mexico               225\n",
       "ohio                     200\n",
       "wisconsin                200\n",
       "florida                  200\n",
       "new_york                 196\n",
       "oklahoma                 190\n",
       "utah                     140\n",
       "oregon                   120\n",
       "minnesota                100\n",
       "south_carolina           100\n",
       "kentucky                 100\n",
       "virginia                  80\n",
       "rhode_island              80\n",
       "indiana                   75\n",
       "north_carolina            70\n",
       "west_virginia             15\n",
       "hawaii                    15\n",
       "maine                     15\n",
       "nevada                    13\n",
       "district_of_columbia      11\n",
       "missouri                  10\n",
       "arkansas                  10\n",
       "montana                    8\n",
       "conneticut                 7\n",
       "idaho                      7\n",
       "nebraska                   6\n",
       "wyoming                    5\n",
       "iowa                       5\n",
       "kansas                     5\n",
       "new_jersey                 2\n",
       "mississippi                2\n",
       "alaska                     2\n",
       "maryland                   2\n",
       "vermont                    1\n",
       "north_dakota               1\n",
       "new_hampshire              1\n",
       "Name: state, dtype: int64"
      ]
     },
     "execution_count": 16,
     "metadata": {},
     "output_type": "execute_result"
    }
   ],
   "source": [
    "df['state'].value_counts()"
   ]
  },
  {
   "cell_type": "code",
   "execution_count": 17,
   "metadata": {},
   "outputs": [
    {
     "data": {
      "text/plain": [
       "49"
      ]
     },
     "execution_count": 17,
     "metadata": {},
     "output_type": "execute_result"
    }
   ],
   "source": [
    "len(df['state'].unique())"
   ]
  },
  {
   "cell_type": "code",
   "execution_count": 18,
   "metadata": {},
   "outputs": [],
   "source": [
    "df['state'].replace('conneticut', 'connecticut', inplace=True)"
   ]
  },
  {
   "cell_type": "code",
   "execution_count": 19,
   "metadata": {},
   "outputs": [],
   "source": [
    "df['state'].replace('louisianna', 'louisiana', inplace=True)"
   ]
  },
  {
   "cell_type": "code",
   "execution_count": 20,
   "metadata": {},
   "outputs": [],
   "source": [
    "# df.to_csv('./data/reddit_states.csv', index=False)"
   ]
  },
  {
   "cell_type": "markdown",
   "metadata": {},
   "source": [
    "## Data Visualization"
   ]
  },
  {
   "cell_type": "code",
   "execution_count": 21,
   "metadata": {},
   "outputs": [
    {
     "data": {
      "image/png": "[encoded data removed]",
      "text/plain": [
       "<Figure size 1080x720 with 1 Axes>"
      ]
     },
     "metadata": {
      "needs_background": "light"
     },
     "output_type": "display_data"
    }
   ],
   "source": [
    "plt.figure(figsize = (15, 10))\n",
    "plt.hist(df['state'], bins = 51, color = 'teal')\n",
    "plt.title('Number of Reddits Posts Per State', fontsize = 20)\n",
    "plt.xlabel('US States', fontsize = 15)\n",
    "plt.xticks(rotation = 70)\n",
    "plt.ylabel('Frequency', fontsize = 15)\n",
    "plt.tight_layout();"
   ]
  },
  {
   "cell_type": "code",
   "execution_count": 22,
   "metadata": {},
   "outputs": [
    {
     "data": {
      "image/png": "[encoded data removed]",
      "text/plain": [
       "<Figure size 864x576 with 1 Axes>"
      ]
     },
     "metadata": {
      "needs_background": "light"
     },
     "output_type": "display_data"
    }
   ],
   "source": [
    "plt.figure(figsize = (12, 8))\n",
    "plt.hist(df['score'], bins = 30, color = 'teal')\n",
    "plt.title('Reddit Scores', fontsize = 20)\n",
    "plt.xlabel('Reddit Post Scores', fontsize = 15)\n",
    "plt.ylabel('Frequency', fontsize = 15)\n",
    "plt.tight_layout();"
   ]
  },
  {
   "cell_type": "code",
   "execution_count": 23,
   "metadata": {},
   "outputs": [
    {
     "data": {
      "text/html": [
       "<div>\n",
       "<style scoped>\n",
       "    .dataframe tbody tr th:only-of-type {\n",
       "        vertical-align: middle;\n",
       "    }\n",
       "\n",
       "    .dataframe tbody tr th {\n",
       "        vertical-align: top;\n",
       "    }\n",
       "\n",
       "    .dataframe thead th {\n",
       "        text-align: right;\n",
       "    }\n",
       "</style>\n",
       "<table border=\"1\" class=\"dataframe\">\n",
       "  <thead>\n",
       "    <tr style=\"text-align: right;\">\n",
       "      <th></th>\n",
       "      <th>subreddit</th>\n",
       "      <th>author</th>\n",
       "      <th>title</th>\n",
       "      <th>selftext</th>\n",
       "      <th>score</th>\n",
       "      <th>created_utc</th>\n",
       "      <th>state</th>\n",
       "      <th>eastern_time</th>\n",
       "    </tr>\n",
       "  </thead>\n",
       "  <tbody>\n",
       "    <tr>\n",
       "      <th>1859</th>\n",
       "      <td>CoronavirusCA</td>\n",
       "      <td>joyousjoyness</td>\n",
       "      <td>Mirror</td>\n",
       "      <td>NaN</td>\n",
       "      <td>792</td>\n",
       "      <td>1595181283</td>\n",
       "      <td>california</td>\n",
       "      <td>2020-07-19 13:54:43</td>\n",
       "    </tr>\n",
       "    <tr>\n",
       "      <th>1865</th>\n",
       "      <td>CoronavirusCA</td>\n",
       "      <td>Accomplished_Thanks</td>\n",
       "      <td>California Gov. Gavin Newsom reportedly had to...</td>\n",
       "      <td>NaN</td>\n",
       "      <td>773</td>\n",
       "      <td>1595195622</td>\n",
       "      <td>california</td>\n",
       "      <td>2020-07-19 17:53:42</td>\n",
       "    </tr>\n",
       "    <tr>\n",
       "      <th>1884</th>\n",
       "      <td>CoronavirusCA</td>\n",
       "      <td>el_chupanebriated</td>\n",
       "      <td>I risked my life yesterday to show yall how Hu...</td>\n",
       "      <td>NaN</td>\n",
       "      <td>546</td>\n",
       "      <td>1595261875</td>\n",
       "      <td>california</td>\n",
       "      <td>2020-07-20 12:17:55</td>\n",
       "    </tr>\n",
       "    <tr>\n",
       "      <th>1897</th>\n",
       "      <td>CoronavirusCA</td>\n",
       "      <td>OTGASTD</td>\n",
       "      <td>Orange County Humor</td>\n",
       "      <td>NaN</td>\n",
       "      <td>754</td>\n",
       "      <td>1595298181</td>\n",
       "      <td>california</td>\n",
       "      <td>2020-07-20 22:23:01</td>\n",
       "    </tr>\n",
       "    <tr>\n",
       "      <th>1977</th>\n",
       "      <td>CoronavirusCA</td>\n",
       "      <td>Lostones1117</td>\n",
       "      <td>‘We have lost control of this fight.’ Californ...</td>\n",
       "      <td>NaN</td>\n",
       "      <td>509</td>\n",
       "      <td>1595540841</td>\n",
       "      <td>california</td>\n",
       "      <td>2020-07-23 17:47:21</td>\n",
       "    </tr>\n",
       "    <tr>\n",
       "      <th>8098</th>\n",
       "      <td>CoronaVirusTX</td>\n",
       "      <td>Can_I_Nap_Now</td>\n",
       "      <td>Texas: Where everyone on the road pulls over w...</td>\n",
       "      <td>NaN</td>\n",
       "      <td>595</td>\n",
       "      <td>1594755866</td>\n",
       "      <td>texas</td>\n",
       "      <td>2020-07-14 13:44:26</td>\n",
       "    </tr>\n",
       "    <tr>\n",
       "      <th>8295</th>\n",
       "      <td>CoronaVirusTX</td>\n",
       "      <td>happysnappah</td>\n",
       "      <td>Nurse in McAllen describes less than ideal con...</td>\n",
       "      <td>NaN</td>\n",
       "      <td>679</td>\n",
       "      <td>1595208676</td>\n",
       "      <td>texas</td>\n",
       "      <td>2020-07-19 19:31:16</td>\n",
       "    </tr>\n",
       "    <tr>\n",
       "      <th>8309</th>\n",
       "      <td>CoronaVirusTX</td>\n",
       "      <td>poweroverpain</td>\n",
       "      <td>TX teacher here near a major hotspot. we final...</td>\n",
       "      <td>NaN</td>\n",
       "      <td>677</td>\n",
       "      <td>1595253716</td>\n",
       "      <td>texas</td>\n",
       "      <td>2020-07-20 08:01:56</td>\n",
       "    </tr>\n",
       "    <tr>\n",
       "      <th>8361</th>\n",
       "      <td>CoronaVirusTX</td>\n",
       "      <td>adidasnmotion</td>\n",
       "      <td>NBC 5 found more than 430 babies have tested p...</td>\n",
       "      <td>NaN</td>\n",
       "      <td>540</td>\n",
       "      <td>1595356557</td>\n",
       "      <td>texas</td>\n",
       "      <td>2020-07-21 12:35:57</td>\n",
       "    </tr>\n",
       "    <tr>\n",
       "      <th>8438</th>\n",
       "      <td>CoronaVirusTX</td>\n",
       "      <td>AintEverLucky</td>\n",
       "      <td>Woman who invited Gov. Abbott to her mother's ...</td>\n",
       "      <td>NaN</td>\n",
       "      <td>608</td>\n",
       "      <td>1595539513</td>\n",
       "      <td>texas</td>\n",
       "      <td>2020-07-23 15:25:13</td>\n",
       "    </tr>\n",
       "    <tr>\n",
       "      <th>9073</th>\n",
       "      <td>CoronavirusWA</td>\n",
       "      <td>cmonster42</td>\n",
       "      <td>Time to be serious</td>\n",
       "      <td>NaN</td>\n",
       "      <td>508</td>\n",
       "      <td>1593793788</td>\n",
       "      <td>washington</td>\n",
       "      <td>2020-07-03 10:29:48</td>\n",
       "    </tr>\n",
       "  </tbody>\n",
       "</table>\n",
       "</div>"
      ],
      "text/plain": [
       "          subreddit               author  \\\n",
       "1859  CoronavirusCA        joyousjoyness   \n",
       "1865  CoronavirusCA  Accomplished_Thanks   \n",
       "1884  CoronavirusCA    el_chupanebriated   \n",
       "1897  CoronavirusCA              OTGASTD   \n",
       "1977  CoronavirusCA         Lostones1117   \n",
       "8098  CoronaVirusTX        Can_I_Nap_Now   \n",
       "8295  CoronaVirusTX         happysnappah   \n",
       "8309  CoronaVirusTX        poweroverpain   \n",
       "8361  CoronaVirusTX        adidasnmotion   \n",
       "8438  CoronaVirusTX        AintEverLucky   \n",
       "9073  CoronavirusWA           cmonster42   \n",
       "\n",
       "                                                  title selftext  score  \\\n",
       "1859                                             Mirror      NaN    792   \n",
       "1865  California Gov. Gavin Newsom reportedly had to...      NaN    773   \n",
       "1884  I risked my life yesterday to show yall how Hu...      NaN    546   \n",
       "1897                                Orange County Humor      NaN    754   \n",
       "1977  ‘We have lost control of this fight.’ Californ...      NaN    509   \n",
       "8098  Texas: Where everyone on the road pulls over w...      NaN    595   \n",
       "8295  Nurse in McAllen describes less than ideal con...      NaN    679   \n",
       "8309  TX teacher here near a major hotspot. we final...      NaN    677   \n",
       "8361  NBC 5 found more than 430 babies have tested p...      NaN    540   \n",
       "8438  Woman who invited Gov. Abbott to her mother's ...      NaN    608   \n",
       "9073                                 Time to be serious      NaN    508   \n",
       "\n",
       "      created_utc       state         eastern_time  \n",
       "1859   1595181283  california  2020-07-19 13:54:43  \n",
       "1865   1595195622  california  2020-07-19 17:53:42  \n",
       "1884   1595261875  california  2020-07-20 12:17:55  \n",
       "1897   1595298181  california  2020-07-20 22:23:01  \n",
       "1977   1595540841  california  2020-07-23 17:47:21  \n",
       "8098   1594755866       texas  2020-07-14 13:44:26  \n",
       "8295   1595208676       texas  2020-07-19 19:31:16  \n",
       "8309   1595253716       texas  2020-07-20 08:01:56  \n",
       "8361   1595356557       texas  2020-07-21 12:35:57  \n",
       "8438   1595539513       texas  2020-07-23 15:25:13  \n",
       "9073   1593793788  washington  2020-07-03 10:29:48  "
      ]
     },
     "execution_count": 23,
     "metadata": {},
     "output_type": "execute_result"
    }
   ],
   "source": [
    "df[df['score'] > 500]"
   ]
  },
  {
   "cell_type": "markdown",
   "metadata": {},
   "source": [
    "## Word Counts"
   ]
  },
  {
   "cell_type": "code",
   "execution_count": 24,
   "metadata": {},
   "outputs": [],
   "source": [
    "df['word_count'] = [len(df['title'][i].split()) for i in range(0, len(df['title']))]"
   ]
  },
  {
   "cell_type": "code",
   "execution_count": 25,
   "metadata": {},
   "outputs": [
    {
     "data": {
      "text/html": [
       "<div>\n",
       "<style scoped>\n",
       "    .dataframe tbody tr th:only-of-type {\n",
       "        vertical-align: middle;\n",
       "    }\n",
       "\n",
       "    .dataframe tbody tr th {\n",
       "        vertical-align: top;\n",
       "    }\n",
       "\n",
       "    .dataframe thead th {\n",
       "        text-align: right;\n",
       "    }\n",
       "</style>\n",
       "<table border=\"1\" class=\"dataframe\">\n",
       "  <thead>\n",
       "    <tr style=\"text-align: right;\">\n",
       "      <th></th>\n",
       "      <th>subreddit</th>\n",
       "      <th>author</th>\n",
       "      <th>title</th>\n",
       "      <th>selftext</th>\n",
       "      <th>score</th>\n",
       "      <th>created_utc</th>\n",
       "      <th>state</th>\n",
       "      <th>eastern_time</th>\n",
       "      <th>word_count</th>\n",
       "    </tr>\n",
       "  </thead>\n",
       "  <tbody>\n",
       "    <tr>\n",
       "      <th>0</th>\n",
       "      <td>CoronavirusAlabama</td>\n",
       "      <td>guarea</td>\n",
       "      <td>After public apology, Montgomery councilman’s ...</td>\n",
       "      <td>NaN</td>\n",
       "      <td>1</td>\n",
       "      <td>1593606973</td>\n",
       "      <td>alabama</td>\n",
       "      <td>2020-07-01 08:36:13</td>\n",
       "      <td>14</td>\n",
       "    </tr>\n",
       "    <tr>\n",
       "      <th>1</th>\n",
       "      <td>CoronavirusAlabama</td>\n",
       "      <td>guarea</td>\n",
       "      <td>University of Alabama graduate tells his COVID...</td>\n",
       "      <td>NaN</td>\n",
       "      <td>1</td>\n",
       "      <td>1593607132</td>\n",
       "      <td>alabama</td>\n",
       "      <td>2020-07-01 08:38:52</td>\n",
       "      <td>8</td>\n",
       "    </tr>\n",
       "    <tr>\n",
       "      <th>2</th>\n",
       "      <td>CoronavirusAlabama</td>\n",
       "      <td>guarea</td>\n",
       "      <td>Tuscaloosa adopts face mask law for public spaces</td>\n",
       "      <td>NaN</td>\n",
       "      <td>1</td>\n",
       "      <td>1593608257</td>\n",
       "      <td>alabama</td>\n",
       "      <td>2020-07-01 08:57:37</td>\n",
       "      <td>8</td>\n",
       "    </tr>\n",
       "    <tr>\n",
       "      <th>3</th>\n",
       "      <td>CoronavirusAlabama</td>\n",
       "      <td>guarea</td>\n",
       "      <td>Coin shortage due to coronavirus: What’s happe...</td>\n",
       "      <td>NaN</td>\n",
       "      <td>0</td>\n",
       "      <td>1593615060</td>\n",
       "      <td>alabama</td>\n",
       "      <td>2020-07-01 10:51:00</td>\n",
       "      <td>11</td>\n",
       "    </tr>\n",
       "    <tr>\n",
       "      <th>4</th>\n",
       "      <td>CoronavirusAlabama</td>\n",
       "      <td>houyam-love</td>\n",
       "      <td>[Study Results] How is Coronavirus Pandemic Af...</td>\n",
       "      <td>NaN</td>\n",
       "      <td>1</td>\n",
       "      <td>1593621148</td>\n",
       "      <td>alabama</td>\n",
       "      <td>2020-07-01 12:32:28</td>\n",
       "      <td>9</td>\n",
       "    </tr>\n",
       "  </tbody>\n",
       "</table>\n",
       "</div>"
      ],
      "text/plain": [
       "            subreddit       author  \\\n",
       "0  CoronavirusAlabama       guarea   \n",
       "1  CoronavirusAlabama       guarea   \n",
       "2  CoronavirusAlabama       guarea   \n",
       "3  CoronavirusAlabama       guarea   \n",
       "4  CoronavirusAlabama  houyam-love   \n",
       "\n",
       "                                               title selftext  score  \\\n",
       "0  After public apology, Montgomery councilman’s ...      NaN      1   \n",
       "1  University of Alabama graduate tells his COVID...      NaN      1   \n",
       "2  Tuscaloosa adopts face mask law for public spaces      NaN      1   \n",
       "3  Coin shortage due to coronavirus: What’s happe...      NaN      0   \n",
       "4  [Study Results] How is Coronavirus Pandemic Af...      NaN      1   \n",
       "\n",
       "   created_utc    state         eastern_time  word_count  \n",
       "0   1593606973  alabama  2020-07-01 08:36:13          14  \n",
       "1   1593607132  alabama  2020-07-01 08:38:52           8  \n",
       "2   1593608257  alabama  2020-07-01 08:57:37           8  \n",
       "3   1593615060  alabama  2020-07-01 10:51:00          11  \n",
       "4   1593621148  alabama  2020-07-01 12:32:28           9  "
      ]
     },
     "execution_count": 25,
     "metadata": {},
     "output_type": "execute_result"
    }
   ],
   "source": [
    "df.head()"
   ]
  },
  {
   "cell_type": "code",
   "execution_count": 26,
   "metadata": {},
   "outputs": [
    {
     "data": {
      "image/png": "[encoded data removed]",
      "text/plain": [
       "<Figure size 864x576 with 1 Axes>"
      ]
     },
     "metadata": {
      "needs_background": "light"
     },
     "output_type": "display_data"
    }
   ],
   "source": [
    "plt.figure(figsize = (12, 8))\n",
    "plt.hist(df['word_count'], bins = 60, color = 'teal')\n",
    "plt.title('Reddit Title Word Counts', fontsize = 20)\n",
    "plt.xlabel('Title Word Count', fontsize = 15)\n",
    "plt.xticks(np.arange(0, max(df['word_count']), 5))\n",
    "plt.ylabel('Frequency', fontsize = 15)\n",
    "plt.axvline(df['word_count'].mean(), color = 'gold')\n",
    "plt.tight_layout();"
   ]
  },
  {
   "cell_type": "code",
   "execution_count": 27,
   "metadata": {},
   "outputs": [],
   "source": [
    "height = [df.groupby('state')['word_count'].mean()[i] for i in range(0, len(df.groupby('state')['word_count'].mean()))]"
   ]
  },
  {
   "cell_type": "code",
   "execution_count": 28,
   "metadata": {},
   "outputs": [
    {
     "data": {
      "text/plain": [
       "[10.8075, 7.0, 11.575555555555555, 12.7, 12.376666666666667]"
      ]
     },
     "execution_count": 28,
     "metadata": {},
     "output_type": "execute_result"
    }
   ],
   "source": [
    "height[0:5]"
   ]
  },
  {
   "cell_type": "code",
   "execution_count": 29,
   "metadata": {},
   "outputs": [
    {
     "data": {
      "text/plain": [
       "state\n",
       "alabama       10.807500\n",
       "alaska         7.000000\n",
       "arizona       11.575556\n",
       "arkansas      12.700000\n",
       "california    12.376667\n",
       "Name: word_count, dtype: float64"
      ]
     },
     "execution_count": 29,
     "metadata": {},
     "output_type": "execute_result"
    }
   ],
   "source": [
    "df.groupby('state')['word_count'].mean().head()"
   ]
  },
  {
   "cell_type": "code",
   "execution_count": 30,
   "metadata": {},
   "outputs": [
    {
     "data": {
      "text/plain": [
       "array(['alabama', 'alaska', 'arizona', 'arkansas', 'california',\n",
       "       'colorado', 'connecticut', 'district_of_columbia', 'florida',\n",
       "       'georgia', 'hawaii', 'idaho', 'illinois', 'indiana', 'iowa',\n",
       "       'kansas', 'kentucky', 'louisiana', 'maine', 'maryland',\n",
       "       'massachusetts', 'michigan', 'minnesota', 'mississippi',\n",
       "       'missouri', 'montana', 'nebraska', 'nevada', 'new_hampshire',\n",
       "       'new_jersey', 'new_mexico', 'new_york', 'north_carolina',\n",
       "       'north_dakota', 'ohio', 'oklahoma', 'oregon', 'pennsylvania',\n",
       "       'rhode_island', 'south_carolina', 'tennessee', 'texas', 'utah',\n",
       "       'vermont', 'virginia', 'washington', 'west_virginia', 'wisconsin',\n",
       "       'wyoming'], dtype=object)"
      ]
     },
     "execution_count": 30,
     "metadata": {},
     "output_type": "execute_result"
    }
   ],
   "source": [
    "df['state'].sort_values().unique()"
   ]
  },
  {
   "cell_type": "code",
   "execution_count": 31,
   "metadata": {},
   "outputs": [
    {
     "data": {
      "image/png": "[encoded data removed]",
      "text/plain": [
       "<Figure size 1080x720 with 1 Axes>"
      ]
     },
     "metadata": {
      "needs_background": "light"
     },
     "output_type": "display_data"
    }
   ],
   "source": [
    "plt.figure(figsize = (15, 10))\n",
    "plt.bar(df['state'].sort_values().unique(), height, color = 'teal')\n",
    "plt.title('Mean Word Counts by State for Reddit', fontsize = 20)\n",
    "plt.xlabel('US States', fontsize = 15)\n",
    "plt.xticks(rotation = 80)\n",
    "plt.ylabel('Word Counts', fontsize = 15)\n",
    "plt.tight_layout();"
   ]
  },
  {
   "cell_type": "code",
   "execution_count": 32,
   "metadata": {},
   "outputs": [
    {
     "data": {
      "image/png": "[encoded data removed]",
      "text/plain": [
       "<Figure size 1080x720 with 1 Axes>"
      ]
     },
     "metadata": {
      "needs_background": "light"
     },
     "output_type": "display_data"
    }
   ],
   "source": [
    "plt.figure(figsize = (15, 10))\n",
    "plt.hlines(y=df['state'].sort_values().unique(), xmin=0, xmax=height, color='skyblue')\n",
    "plt.plot(height, df['state'].sort_values().unique(), \"o\")\n",
    "plt.title('Mean Word Counts by State for Reddit', fontsize = 20)\n",
    "plt.ylabel('US States', fontsize = 15)\n",
    "plt.xlabel('Word Counts', fontsize = 15)\n",
    "plt.tight_layout();\n"
   ]
  },
  {
   "cell_type": "markdown",
   "metadata": {},
   "source": [
    "## Frequently Used Words Using CountVectorizer"
   ]
  },
  {
   "cell_type": "code",
   "execution_count": 33,
   "metadata": {},
   "outputs": [],
   "source": [
    "cvec = CountVectorizer(stop_words = 'english')"
   ]
  },
  {
   "cell_type": "code",
   "execution_count": 34,
   "metadata": {},
   "outputs": [],
   "source": [
    "X = df['title']"
   ]
  },
  {
   "cell_type": "code",
   "execution_count": 35,
   "metadata": {},
   "outputs": [],
   "source": [
    "Z_title = cvec.fit_transform(X)"
   ]
  },
  {
   "cell_type": "code",
   "execution_count": 36,
   "metadata": {},
   "outputs": [
    {
     "data": {
      "text/html": [
       "<div>\n",
       "<style scoped>\n",
       "    .dataframe tbody tr th:only-of-type {\n",
       "        vertical-align: middle;\n",
       "    }\n",
       "\n",
       "    .dataframe tbody tr th {\n",
       "        vertical-align: top;\n",
       "    }\n",
       "\n",
       "    .dataframe thead th {\n",
       "        text-align: right;\n",
       "    }\n",
       "</style>\n",
       "<table border=\"1\" class=\"dataframe\">\n",
       "  <thead>\n",
       "    <tr style=\"text-align: right;\">\n",
       "      <th></th>\n",
       "      <th>00</th>\n",
       "      <th>000</th>\n",
       "      <th>0009018</th>\n",
       "      <th>000s</th>\n",
       "      <th>009</th>\n",
       "      <th>00pm</th>\n",
       "      <th>01</th>\n",
       "      <th>015</th>\n",
       "      <th>016</th>\n",
       "      <th>017</th>\n",
       "      <th>...</th>\n",
       "      <th>معاناة</th>\n",
       "      <th>معلومات</th>\n",
       "      <th>مفيدة</th>\n",
       "      <th>من</th>\n",
       "      <th>موبايلات</th>\n",
       "      <th>ميديا</th>\n",
       "      <th>واجهزة</th>\n",
       "      <th>وتثبيت</th>\n",
       "      <th>وداع</th>\n",
       "      <th>وفاة</th>\n",
       "    </tr>\n",
       "  </thead>\n",
       "  <tbody>\n",
       "    <tr>\n",
       "      <th>0</th>\n",
       "      <td>0</td>\n",
       "      <td>0</td>\n",
       "      <td>0</td>\n",
       "      <td>0</td>\n",
       "      <td>0</td>\n",
       "      <td>0</td>\n",
       "      <td>0</td>\n",
       "      <td>0</td>\n",
       "      <td>0</td>\n",
       "      <td>0</td>\n",
       "      <td>...</td>\n",
       "      <td>0</td>\n",
       "      <td>0</td>\n",
       "      <td>0</td>\n",
       "      <td>0</td>\n",
       "      <td>0</td>\n",
       "      <td>0</td>\n",
       "      <td>0</td>\n",
       "      <td>0</td>\n",
       "      <td>0</td>\n",
       "      <td>0</td>\n",
       "    </tr>\n",
       "    <tr>\n",
       "      <th>1</th>\n",
       "      <td>0</td>\n",
       "      <td>0</td>\n",
       "      <td>0</td>\n",
       "      <td>0</td>\n",
       "      <td>0</td>\n",
       "      <td>0</td>\n",
       "      <td>0</td>\n",
       "      <td>0</td>\n",
       "      <td>0</td>\n",
       "      <td>0</td>\n",
       "      <td>...</td>\n",
       "      <td>0</td>\n",
       "      <td>0</td>\n",
       "      <td>0</td>\n",
       "      <td>0</td>\n",
       "      <td>0</td>\n",
       "      <td>0</td>\n",
       "      <td>0</td>\n",
       "      <td>0</td>\n",
       "      <td>0</td>\n",
       "      <td>0</td>\n",
       "    </tr>\n",
       "    <tr>\n",
       "      <th>2</th>\n",
       "      <td>0</td>\n",
       "      <td>0</td>\n",
       "      <td>0</td>\n",
       "      <td>0</td>\n",
       "      <td>0</td>\n",
       "      <td>0</td>\n",
       "      <td>0</td>\n",
       "      <td>0</td>\n",
       "      <td>0</td>\n",
       "      <td>0</td>\n",
       "      <td>...</td>\n",
       "      <td>0</td>\n",
       "      <td>0</td>\n",
       "      <td>0</td>\n",
       "      <td>0</td>\n",
       "      <td>0</td>\n",
       "      <td>0</td>\n",
       "      <td>0</td>\n",
       "      <td>0</td>\n",
       "      <td>0</td>\n",
       "      <td>0</td>\n",
       "    </tr>\n",
       "    <tr>\n",
       "      <th>3</th>\n",
       "      <td>0</td>\n",
       "      <td>0</td>\n",
       "      <td>0</td>\n",
       "      <td>0</td>\n",
       "      <td>0</td>\n",
       "      <td>0</td>\n",
       "      <td>0</td>\n",
       "      <td>0</td>\n",
       "      <td>0</td>\n",
       "      <td>0</td>\n",
       "      <td>...</td>\n",
       "      <td>0</td>\n",
       "      <td>0</td>\n",
       "      <td>0</td>\n",
       "      <td>0</td>\n",
       "      <td>0</td>\n",
       "      <td>0</td>\n",
       "      <td>0</td>\n",
       "      <td>0</td>\n",
       "      <td>0</td>\n",
       "      <td>0</td>\n",
       "    </tr>\n",
       "    <tr>\n",
       "      <th>4</th>\n",
       "      <td>0</td>\n",
       "      <td>0</td>\n",
       "      <td>0</td>\n",
       "      <td>0</td>\n",
       "      <td>0</td>\n",
       "      <td>0</td>\n",
       "      <td>0</td>\n",
       "      <td>0</td>\n",
       "      <td>0</td>\n",
       "      <td>0</td>\n",
       "      <td>...</td>\n",
       "      <td>0</td>\n",
       "      <td>0</td>\n",
       "      <td>0</td>\n",
       "      <td>0</td>\n",
       "      <td>0</td>\n",
       "      <td>0</td>\n",
       "      <td>0</td>\n",
       "      <td>0</td>\n",
       "      <td>0</td>\n",
       "      <td>0</td>\n",
       "    </tr>\n",
       "  </tbody>\n",
       "</table>\n",
       "<p>5 rows × 9999 columns</p>\n",
       "</div>"
      ],
      "text/plain": [
       "   00  000  0009018  000s  009  00pm  01  015  016  017  ...  معاناة  معلومات  \\\n",
       "0   0    0        0     0    0     0   0    0    0    0  ...       0        0   \n",
       "1   0    0        0     0    0     0   0    0    0    0  ...       0        0   \n",
       "2   0    0        0     0    0     0   0    0    0    0  ...       0        0   \n",
       "3   0    0        0     0    0     0   0    0    0    0  ...       0        0   \n",
       "4   0    0        0     0    0     0   0    0    0    0  ...       0        0   \n",
       "\n",
       "   مفيدة  من  موبايلات  ميديا  واجهزة  وتثبيت  وداع  وفاة  \n",
       "0      0   0         0      0       0       0     0     0  \n",
       "1      0   0         0      0       0       0     0     0  \n",
       "2      0   0         0      0       0       0     0     0  \n",
       "3      0   0         0      0       0       0     0     0  \n",
       "4      0   0         0      0       0       0     0     0  \n",
       "\n",
       "[5 rows x 9999 columns]"
      ]
     },
     "execution_count": 36,
     "metadata": {},
     "output_type": "execute_result"
    }
   ],
   "source": [
    "Z_title_df = pd.DataFrame(Z_title.toarray(), columns = cvec.get_feature_names())\n",
    "Z_title_df.head()"
   ]
  },
  {
   "cell_type": "code",
   "execution_count": 37,
   "metadata": {},
   "outputs": [],
   "source": [
    "# Code adapted from global lect: NLP II\n",
    "\n",
    "top_words = {}\n",
    "\n",
    "for i in Z_title_df.columns:\n",
    "    top_words[i] = Z_title_df[i].sum()\n",
    "    \n",
    "most_freq = pd.DataFrame(sorted(top_words.items(), key = lambda x: x[1], reverse = True))"
   ]
  },
  {
   "cell_type": "code",
   "execution_count": 38,
   "metadata": {},
   "outputs": [
    {
     "data": {
      "text/html": [
       "<div>\n",
       "<style scoped>\n",
       "    .dataframe tbody tr th:only-of-type {\n",
       "        vertical-align: middle;\n",
       "    }\n",
       "\n",
       "    .dataframe tbody tr th {\n",
       "        vertical-align: top;\n",
       "    }\n",
       "\n",
       "    .dataframe thead th {\n",
       "        text-align: right;\n",
       "    }\n",
       "</style>\n",
       "<table border=\"1\" class=\"dataframe\">\n",
       "  <thead>\n",
       "    <tr style=\"text-align: right;\">\n",
       "      <th></th>\n",
       "      <th>0</th>\n",
       "      <th>1</th>\n",
       "    </tr>\n",
       "  </thead>\n",
       "  <tbody>\n",
       "    <tr>\n",
       "      <th>0</th>\n",
       "      <td>covid</td>\n",
       "      <td>2513</td>\n",
       "    </tr>\n",
       "    <tr>\n",
       "      <th>1</th>\n",
       "      <td>19</td>\n",
       "      <td>1900</td>\n",
       "    </tr>\n",
       "    <tr>\n",
       "      <th>2</th>\n",
       "      <td>cases</td>\n",
       "      <td>1336</td>\n",
       "    </tr>\n",
       "    <tr>\n",
       "      <th>3</th>\n",
       "      <td>coronavirus</td>\n",
       "      <td>1275</td>\n",
       "    </tr>\n",
       "    <tr>\n",
       "      <th>4</th>\n",
       "      <td>new</td>\n",
       "      <td>1190</td>\n",
       "    </tr>\n",
       "    <tr>\n",
       "      <th>5</th>\n",
       "      <td>july</td>\n",
       "      <td>749</td>\n",
       "    </tr>\n",
       "    <tr>\n",
       "      <th>6</th>\n",
       "      <td>deaths</td>\n",
       "      <td>712</td>\n",
       "    </tr>\n",
       "    <tr>\n",
       "      <th>7</th>\n",
       "      <td>county</td>\n",
       "      <td>694</td>\n",
       "    </tr>\n",
       "    <tr>\n",
       "      <th>8</th>\n",
       "      <td>mask</td>\n",
       "      <td>684</td>\n",
       "    </tr>\n",
       "    <tr>\n",
       "      <th>9</th>\n",
       "      <td>school</td>\n",
       "      <td>538</td>\n",
       "    </tr>\n",
       "  </tbody>\n",
       "</table>\n",
       "</div>"
      ],
      "text/plain": [
       "             0     1\n",
       "0        covid  2513\n",
       "1           19  1900\n",
       "2        cases  1336\n",
       "3  coronavirus  1275\n",
       "4          new  1190\n",
       "5         july   749\n",
       "6       deaths   712\n",
       "7       county   694\n",
       "8         mask   684\n",
       "9       school   538"
      ]
     },
     "execution_count": 38,
     "metadata": {},
     "output_type": "execute_result"
    }
   ],
   "source": [
    "most_freq.head(10)"
   ]
  },
  {
   "cell_type": "code",
   "execution_count": 39,
   "metadata": {},
   "outputs": [
    {
     "data": {
      "image/png": "[encoded data removed]",
      "text/plain": [
       "<Figure size 792x576 with 1 Axes>"
      ]
     },
     "metadata": {
      "needs_background": "light"
     },
     "output_type": "display_data"
    }
   ],
   "source": [
    "# Code adapted from global lect: NLP II\n",
    "\n",
    "plt.figure(figsize = (11, 8))\n",
    "\n",
    "plt.bar(most_freq[0][:20], most_freq[1][:20])\n",
    "plt.title(\"Frequently Occurring Words in Reddit\\nTitles Across 50 States\", fontsize = 20)\n",
    "plt.xlabel(\"Words\", fontsize = 15)\n",
    "plt.xticks(rotation = 45)\n",
    "plt.ylabel(\"Frequency\", fontsize = 15)\n",
    "plt.tight_layout();"
   ]
  },
  {
   "cell_type": "markdown",
   "metadata": {},
   "source": [
    "### Bi-grams"
   ]
  },
  {
   "cell_type": "code",
   "execution_count": 40,
   "metadata": {},
   "outputs": [],
   "source": [
    "cvec_bigram = CountVectorizer(stop_words = 'english', ngram_range = (2,2))"
   ]
  },
  {
   "cell_type": "code",
   "execution_count": 41,
   "metadata": {},
   "outputs": [],
   "source": [
    "Z_bigram = cvec_bigram.fit_transform(X)"
   ]
  },
  {
   "cell_type": "code",
   "execution_count": 42,
   "metadata": {},
   "outputs": [
    {
     "data": {
      "text/html": [
       "<div>\n",
       "<style scoped>\n",
       "    .dataframe tbody tr th:only-of-type {\n",
       "        vertical-align: middle;\n",
       "    }\n",
       "\n",
       "    .dataframe tbody tr th {\n",
       "        vertical-align: top;\n",
       "    }\n",
       "\n",
       "    .dataframe thead th {\n",
       "        text-align: right;\n",
       "    }\n",
       "</style>\n",
       "<table border=\"1\" class=\"dataframe\">\n",
       "  <thead>\n",
       "    <tr style=\"text-align: right;\">\n",
       "      <th></th>\n",
       "      <th>00 pm</th>\n",
       "      <th>000 111</th>\n",
       "      <th>000 15</th>\n",
       "      <th>000 73</th>\n",
       "      <th>000 80</th>\n",
       "      <th>000 active</th>\n",
       "      <th>000 attendance</th>\n",
       "      <th>000 attendees</th>\n",
       "      <th>000 case</th>\n",
       "      <th>000 cases</th>\n",
       "      <th>...</th>\n",
       "      <th>معاناة وداع</th>\n",
       "      <th>معلومات مفيدة</th>\n",
       "      <th>مفيدة الاول</th>\n",
       "      <th>من قبل</th>\n",
       "      <th>موبايلات خرافية</th>\n",
       "      <th>ميديا فاير</th>\n",
       "      <th>واجهزة الموبيل</th>\n",
       "      <th>وتثبيت اقوى</th>\n",
       "      <th>وداع رجاء</th>\n",
       "      <th>وفاة الفنانة</th>\n",
       "    </tr>\n",
       "  </thead>\n",
       "  <tbody>\n",
       "    <tr>\n",
       "      <th>0</th>\n",
       "      <td>0</td>\n",
       "      <td>0</td>\n",
       "      <td>0</td>\n",
       "      <td>0</td>\n",
       "      <td>0</td>\n",
       "      <td>0</td>\n",
       "      <td>0</td>\n",
       "      <td>0</td>\n",
       "      <td>0</td>\n",
       "      <td>0</td>\n",
       "      <td>...</td>\n",
       "      <td>0</td>\n",
       "      <td>0</td>\n",
       "      <td>0</td>\n",
       "      <td>0</td>\n",
       "      <td>0</td>\n",
       "      <td>0</td>\n",
       "      <td>0</td>\n",
       "      <td>0</td>\n",
       "      <td>0</td>\n",
       "      <td>0</td>\n",
       "    </tr>\n",
       "    <tr>\n",
       "      <th>1</th>\n",
       "      <td>0</td>\n",
       "      <td>0</td>\n",
       "      <td>0</td>\n",
       "      <td>0</td>\n",
       "      <td>0</td>\n",
       "      <td>0</td>\n",
       "      <td>0</td>\n",
       "      <td>0</td>\n",
       "      <td>0</td>\n",
       "      <td>0</td>\n",
       "      <td>...</td>\n",
       "      <td>0</td>\n",
       "      <td>0</td>\n",
       "      <td>0</td>\n",
       "      <td>0</td>\n",
       "      <td>0</td>\n",
       "      <td>0</td>\n",
       "      <td>0</td>\n",
       "      <td>0</td>\n",
       "      <td>0</td>\n",
       "      <td>0</td>\n",
       "    </tr>\n",
       "    <tr>\n",
       "      <th>2</th>\n",
       "      <td>0</td>\n",
       "      <td>0</td>\n",
       "      <td>0</td>\n",
       "      <td>0</td>\n",
       "      <td>0</td>\n",
       "      <td>0</td>\n",
       "      <td>0</td>\n",
       "      <td>0</td>\n",
       "      <td>0</td>\n",
       "      <td>0</td>\n",
       "      <td>...</td>\n",
       "      <td>0</td>\n",
       "      <td>0</td>\n",
       "      <td>0</td>\n",
       "      <td>0</td>\n",
       "      <td>0</td>\n",
       "      <td>0</td>\n",
       "      <td>0</td>\n",
       "      <td>0</td>\n",
       "      <td>0</td>\n",
       "      <td>0</td>\n",
       "    </tr>\n",
       "    <tr>\n",
       "      <th>3</th>\n",
       "      <td>0</td>\n",
       "      <td>0</td>\n",
       "      <td>0</td>\n",
       "      <td>0</td>\n",
       "      <td>0</td>\n",
       "      <td>0</td>\n",
       "      <td>0</td>\n",
       "      <td>0</td>\n",
       "      <td>0</td>\n",
       "      <td>0</td>\n",
       "      <td>...</td>\n",
       "      <td>0</td>\n",
       "      <td>0</td>\n",
       "      <td>0</td>\n",
       "      <td>0</td>\n",
       "      <td>0</td>\n",
       "      <td>0</td>\n",
       "      <td>0</td>\n",
       "      <td>0</td>\n",
       "      <td>0</td>\n",
       "      <td>0</td>\n",
       "    </tr>\n",
       "    <tr>\n",
       "      <th>4</th>\n",
       "      <td>0</td>\n",
       "      <td>0</td>\n",
       "      <td>0</td>\n",
       "      <td>0</td>\n",
       "      <td>0</td>\n",
       "      <td>0</td>\n",
       "      <td>0</td>\n",
       "      <td>0</td>\n",
       "      <td>0</td>\n",
       "      <td>0</td>\n",
       "      <td>...</td>\n",
       "      <td>0</td>\n",
       "      <td>0</td>\n",
       "      <td>0</td>\n",
       "      <td>0</td>\n",
       "      <td>0</td>\n",
       "      <td>0</td>\n",
       "      <td>0</td>\n",
       "      <td>0</td>\n",
       "      <td>0</td>\n",
       "      <td>0</td>\n",
       "    </tr>\n",
       "  </tbody>\n",
       "</table>\n",
       "<p>5 rows × 42597 columns</p>\n",
       "</div>"
      ],
      "text/plain": [
       "   00 pm  000 111  000 15  000 73  000 80  000 active  000 attendance  \\\n",
       "0      0        0       0       0       0           0               0   \n",
       "1      0        0       0       0       0           0               0   \n",
       "2      0        0       0       0       0           0               0   \n",
       "3      0        0       0       0       0           0               0   \n",
       "4      0        0       0       0       0           0               0   \n",
       "\n",
       "   000 attendees  000 case  000 cases  ...  معاناة وداع  معلومات مفيدة  \\\n",
       "0              0         0          0  ...            0              0   \n",
       "1              0         0          0  ...            0              0   \n",
       "2              0         0          0  ...            0              0   \n",
       "3              0         0          0  ...            0              0   \n",
       "4              0         0          0  ...            0              0   \n",
       "\n",
       "   مفيدة الاول  من قبل  موبايلات خرافية  ميديا فاير  واجهزة الموبيل  \\\n",
       "0            0       0                0           0               0   \n",
       "1            0       0                0           0               0   \n",
       "2            0       0                0           0               0   \n",
       "3            0       0                0           0               0   \n",
       "4            0       0                0           0               0   \n",
       "\n",
       "   وتثبيت اقوى  وداع رجاء  وفاة الفنانة  \n",
       "0            0          0             0  \n",
       "1            0          0             0  \n",
       "2            0          0             0  \n",
       "3            0          0             0  \n",
       "4            0          0             0  \n",
       "\n",
       "[5 rows x 42597 columns]"
      ]
     },
     "execution_count": 42,
     "metadata": {},
     "output_type": "execute_result"
    }
   ],
   "source": [
    "Z_bigram_df = pd.DataFrame(Z_bigram.toarray(), columns = cvec_bigram.get_feature_names())\n",
    "Z_bigram_df.head()"
   ]
  },
  {
   "cell_type": "code",
   "execution_count": 43,
   "metadata": {},
   "outputs": [],
   "source": [
    "# Code adapted from global lect: NLP II\n",
    "\n",
    "top_words = {}\n",
    "\n",
    "for i in Z_bigram_df.columns:\n",
    "    top_words[i] = Z_bigram_df[i].sum()\n",
    "    \n",
    "most_freq_bigram = pd.DataFrame(sorted(top_words.items(), key = lambda x: x[1], reverse = True))"
   ]
  },
  {
   "cell_type": "code",
   "execution_count": 44,
   "metadata": {},
   "outputs": [
    {
     "data": {
      "text/html": [
       "<div>\n",
       "<style scoped>\n",
       "    .dataframe tbody tr th:only-of-type {\n",
       "        vertical-align: middle;\n",
       "    }\n",
       "\n",
       "    .dataframe tbody tr th {\n",
       "        vertical-align: top;\n",
       "    }\n",
       "\n",
       "    .dataframe thead th {\n",
       "        text-align: right;\n",
       "    }\n",
       "</style>\n",
       "<table border=\"1\" class=\"dataframe\">\n",
       "  <thead>\n",
       "    <tr style=\"text-align: right;\">\n",
       "      <th></th>\n",
       "      <th>0</th>\n",
       "      <th>1</th>\n",
       "    </tr>\n",
       "  </thead>\n",
       "  <tbody>\n",
       "    <tr>\n",
       "      <th>0</th>\n",
       "      <td>covid 19</td>\n",
       "      <td>1834</td>\n",
       "    </tr>\n",
       "    <tr>\n",
       "      <th>1</th>\n",
       "      <td>19 cases</td>\n",
       "      <td>314</td>\n",
       "    </tr>\n",
       "    <tr>\n",
       "      <th>2</th>\n",
       "      <td>new cases</td>\n",
       "      <td>277</td>\n",
       "    </tr>\n",
       "    <tr>\n",
       "      <th>3</th>\n",
       "      <td>coronavirus cases</td>\n",
       "      <td>154</td>\n",
       "    </tr>\n",
       "    <tr>\n",
       "      <th>4</th>\n",
       "      <td>daily discussion</td>\n",
       "      <td>148</td>\n",
       "    </tr>\n",
       "    <tr>\n",
       "      <th>5</th>\n",
       "      <td>new deaths</td>\n",
       "      <td>128</td>\n",
       "    </tr>\n",
       "    <tr>\n",
       "      <th>6</th>\n",
       "      <td>new covid</td>\n",
       "      <td>113</td>\n",
       "    </tr>\n",
       "    <tr>\n",
       "      <th>7</th>\n",
       "      <td>positive covid</td>\n",
       "      <td>111</td>\n",
       "    </tr>\n",
       "    <tr>\n",
       "      <th>8</th>\n",
       "      <td>mask mandate</td>\n",
       "      <td>110</td>\n",
       "    </tr>\n",
       "    <tr>\n",
       "      <th>9</th>\n",
       "      <td>health officials</td>\n",
       "      <td>107</td>\n",
       "    </tr>\n",
       "  </tbody>\n",
       "</table>\n",
       "</div>"
      ],
      "text/plain": [
       "                   0     1\n",
       "0           covid 19  1834\n",
       "1           19 cases   314\n",
       "2          new cases   277\n",
       "3  coronavirus cases   154\n",
       "4   daily discussion   148\n",
       "5         new deaths   128\n",
       "6          new covid   113\n",
       "7     positive covid   111\n",
       "8       mask mandate   110\n",
       "9   health officials   107"
      ]
     },
     "execution_count": 44,
     "metadata": {},
     "output_type": "execute_result"
    }
   ],
   "source": [
    "most_freq_bigram.head(10)"
   ]
  },
  {
   "cell_type": "code",
   "execution_count": 45,
   "metadata": {
    "scrolled": true
   },
   "outputs": [
    {
     "data": {
      "image/png": "[encoded data removed]",
      "text/plain": [
       "<Figure size 792x576 with 1 Axes>"
      ]
     },
     "metadata": {
      "needs_background": "light"
     },
     "output_type": "display_data"
    }
   ],
   "source": [
    "# Code adapted from global lect: NLP II\n",
    "\n",
    "plt.figure(figsize = (11, 8))\n",
    "\n",
    "plt.bar(most_freq_bigram[0][:20], most_freq_bigram[1][:20])\n",
    "plt.title(\"Frequently Occurring Bigram Words in Reddit\\nTitles Across 50 States\", fontsize = 20)\n",
    "plt.xlabel(\"Words\", fontsize = 15)\n",
    "plt.xticks(rotation = 60)\n",
    "plt.ylabel(\"Frequency\", fontsize = 15)\n",
    "plt.tight_layout();"
   ]
  },
  {
   "cell_type": "markdown",
   "metadata": {},
   "source": [
    "# Data Cleaning and EDA for Twitter"
   ]
  },
  {
   "cell_type": "code",
   "execution_count": 49,
   "metadata": {},
   "outputs": [],
   "source": [
    "twitter = pd.read_csv('../data/twitter_july_df.csv')"
   ]
  },
  {
   "cell_type": "code",
   "execution_count": 50,
   "metadata": {},
   "outputs": [
    {
     "data": {
      "text/plain": [
       "(19756, 13)"
      ]
     },
     "execution_count": 50,
     "metadata": {},
     "output_type": "execute_result"
    }
   ],
   "source": [
    "twitter.shape"
   ]
  },
  {
   "cell_type": "code",
   "execution_count": 51,
   "metadata": {},
   "outputs": [
    {
     "data": {
      "text/html": [
       "<div>\n",
       "<style scoped>\n",
       "    .dataframe tbody tr th:only-of-type {\n",
       "        vertical-align: middle;\n",
       "    }\n",
       "\n",
       "    .dataframe tbody tr th {\n",
       "        vertical-align: top;\n",
       "    }\n",
       "\n",
       "    .dataframe thead th {\n",
       "        text-align: right;\n",
       "    }\n",
       "</style>\n",
       "<table border=\"1\" class=\"dataframe\">\n",
       "  <thead>\n",
       "    <tr style=\"text-align: right;\">\n",
       "      <th></th>\n",
       "      <th>coordinates</th>\n",
       "      <th>created_at</th>\n",
       "      <th>hashtags</th>\n",
       "      <th>favorite_count</th>\n",
       "      <th>id</th>\n",
       "      <th>lang</th>\n",
       "      <th>place</th>\n",
       "      <th>retweet_count</th>\n",
       "      <th>text</th>\n",
       "      <th>user_followers_count</th>\n",
       "      <th>user_location</th>\n",
       "      <th>user_verified</th>\n",
       "      <th>state</th>\n",
       "    </tr>\n",
       "  </thead>\n",
       "  <tbody>\n",
       "    <tr>\n",
       "      <th>0</th>\n",
       "      <td>-122.419,37.7793</td>\n",
       "      <td>Tue Jul 21 04:45:01 +0000 2020</td>\n",
       "      <td>NaN</td>\n",
       "      <td>0</td>\n",
       "      <td>1285435588548669441</td>\n",
       "      <td>en</td>\n",
       "      <td>San Francisco, CA</td>\n",
       "      <td>0</td>\n",
       "      <td>What do you wear for a Summer dinner in San Fr...</td>\n",
       "      <td>1659</td>\n",
       "      <td>San Francisco</td>\n",
       "      <td>False</td>\n",
       "      <td>CA</td>\n",
       "    </tr>\n",
       "    <tr>\n",
       "      <th>1</th>\n",
       "      <td>-87.6587039,41.9272579</td>\n",
       "      <td>Tue Jul 21 06:03:38 +0000 2020</td>\n",
       "      <td>summer2020 phase3 summerhaircut vibin morethan...</td>\n",
       "      <td>0</td>\n",
       "      <td>1285455375559352320</td>\n",
       "      <td>en</td>\n",
       "      <td>Chicago, IL</td>\n",
       "      <td>0</td>\n",
       "      <td>𝟞.𝟚𝟠.𝟚𝟘𝟚𝟘 \"𝕟𝕖𝕨\" 𝕙𝕒𝕚𝕣 𝕕𝕠𝕟'𝕥 𝕔𝕒𝕣𝕖 🖤\\n.\\n.\\n.\\n#s...</td>\n",
       "      <td>372</td>\n",
       "      <td>Chicago, IL</td>\n",
       "      <td>False</td>\n",
       "      <td>IL</td>\n",
       "    </tr>\n",
       "    <tr>\n",
       "      <th>2</th>\n",
       "      <td>-117.89719,33.81864</td>\n",
       "      <td>Tue Jul 21 04:36:24 +0000 2020</td>\n",
       "      <td>theranch birthday tomato heirloomtomatoes file...</td>\n",
       "      <td>0</td>\n",
       "      <td>1285433422836531202</td>\n",
       "      <td>en</td>\n",
       "      <td>Anaheim, CA</td>\n",
       "      <td>0</td>\n",
       "      <td>Glad @theranchanaheim didn’t let Covid stop th...</td>\n",
       "      <td>535</td>\n",
       "      <td>Lake Forest, CA</td>\n",
       "      <td>False</td>\n",
       "      <td>CA</td>\n",
       "    </tr>\n",
       "    <tr>\n",
       "      <th>3</th>\n",
       "      <td>-123.087,44.0519</td>\n",
       "      <td>Tue Jul 21 04:54:32 +0000 2020</td>\n",
       "      <td>customcanoe handcraftedcanoe quarantine Quaran...</td>\n",
       "      <td>0</td>\n",
       "      <td>1285437985350189057</td>\n",
       "      <td>en</td>\n",
       "      <td>Eugene, OR</td>\n",
       "      <td>0</td>\n",
       "      <td>Mellow Monday\\n.\\nMarvels of the majestic moti...</td>\n",
       "      <td>88</td>\n",
       "      <td>Eugene, OR</td>\n",
       "      <td>False</td>\n",
       "      <td>OR</td>\n",
       "    </tr>\n",
       "    <tr>\n",
       "      <th>4</th>\n",
       "      <td>-87.66902,41.94131</td>\n",
       "      <td>Tue Jul 21 06:03:29 +0000 2020</td>\n",
       "      <td>summer2020 covid19 phase3 summernails vibin</td>\n",
       "      <td>0</td>\n",
       "      <td>1285455336955150336</td>\n",
       "      <td>en</td>\n",
       "      <td>Chicago, IL</td>\n",
       "      <td>0</td>\n",
       "      <td>🌳ℐ 𝓁𝑜𝓋𝑒 𝑜𝓊𝓇 𝓃𝑒𝓌 𝓃𝑒𝒾𝑔𝒽𝒷𝑜𝓇𝒽𝑜𝑜𝒹\\n💛💙💚🤎🧡\\n.\\n.\\n.\\n...</td>\n",
       "      <td>372</td>\n",
       "      <td>Chicago, IL</td>\n",
       "      <td>False</td>\n",
       "      <td>IL</td>\n",
       "    </tr>\n",
       "  </tbody>\n",
       "</table>\n",
       "</div>"
      ],
      "text/plain": [
       "              coordinates                      created_at  \\\n",
       "0        -122.419,37.7793  Tue Jul 21 04:45:01 +0000 2020   \n",
       "1  -87.6587039,41.9272579  Tue Jul 21 06:03:38 +0000 2020   \n",
       "2     -117.89719,33.81864  Tue Jul 21 04:36:24 +0000 2020   \n",
       "3        -123.087,44.0519  Tue Jul 21 04:54:32 +0000 2020   \n",
       "4      -87.66902,41.94131  Tue Jul 21 06:03:29 +0000 2020   \n",
       "\n",
       "                                            hashtags  favorite_count  \\\n",
       "0                                                NaN               0   \n",
       "1  summer2020 phase3 summerhaircut vibin morethan...               0   \n",
       "2  theranch birthday tomato heirloomtomatoes file...               0   \n",
       "3  customcanoe handcraftedcanoe quarantine Quaran...               0   \n",
       "4        summer2020 covid19 phase3 summernails vibin               0   \n",
       "\n",
       "                    id lang              place  retweet_count  \\\n",
       "0  1285435588548669441   en  San Francisco, CA              0   \n",
       "1  1285455375559352320   en        Chicago, IL              0   \n",
       "2  1285433422836531202   en        Anaheim, CA              0   \n",
       "3  1285437985350189057   en         Eugene, OR              0   \n",
       "4  1285455336955150336   en        Chicago, IL              0   \n",
       "\n",
       "                                                text  user_followers_count  \\\n",
       "0  What do you wear for a Summer dinner in San Fr...                  1659   \n",
       "1  𝟞.𝟚𝟠.𝟚𝟘𝟚𝟘 \"𝕟𝕖𝕨\" 𝕙𝕒𝕚𝕣 𝕕𝕠𝕟'𝕥 𝕔𝕒𝕣𝕖 🖤\\n.\\n.\\n.\\n#s...                   372   \n",
       "2  Glad @theranchanaheim didn’t let Covid stop th...                   535   \n",
       "3  Mellow Monday\\n.\\nMarvels of the majestic moti...                    88   \n",
       "4  🌳ℐ 𝓁𝑜𝓋𝑒 𝑜𝓊𝓇 𝓃𝑒𝓌 𝓃𝑒𝒾𝑔𝒽𝒷𝑜𝓇𝒽𝑜𝑜𝒹\\n💛💙💚🤎🧡\\n.\\n.\\n.\\n...                   372   \n",
       "\n",
       "     user_location  user_verified state  \n",
       "0    San Francisco          False    CA  \n",
       "1      Chicago, IL          False    IL  \n",
       "2  Lake Forest, CA          False    CA  \n",
       "3       Eugene, OR          False    OR  \n",
       "4      Chicago, IL          False    IL  "
      ]
     },
     "execution_count": 51,
     "metadata": {},
     "output_type": "execute_result"
    }
   ],
   "source": [
    "twitter.head()"
   ]
  },
  {
   "cell_type": "code",
   "execution_count": 52,
   "metadata": {},
   "outputs": [],
   "source": [
    "twitter_cols = ['text', 'favorite_count', 'retweet_count','state', 'created_at']"
   ]
  },
  {
   "cell_type": "code",
   "execution_count": 53,
   "metadata": {},
   "outputs": [],
   "source": [
    "twitter = twitter[twitter_cols].copy()"
   ]
  },
  {
   "cell_type": "code",
   "execution_count": 54,
   "metadata": {},
   "outputs": [
    {
     "name": "stdout",
     "output_type": "stream",
     "text": [
      "<class 'pandas.core.frame.DataFrame'>\n",
      "RangeIndex: 19756 entries, 0 to 19755\n",
      "Data columns (total 5 columns):\n",
      " #   Column          Non-Null Count  Dtype \n",
      "---  ------          --------------  ----- \n",
      " 0   text            19756 non-null  object\n",
      " 1   favorite_count  19756 non-null  int64 \n",
      " 2   retweet_count   19756 non-null  int64 \n",
      " 3   state           19756 non-null  object\n",
      " 4   created_at      19756 non-null  object\n",
      "dtypes: int64(2), object(3)\n",
      "memory usage: 771.8+ KB\n"
     ]
    }
   ],
   "source": [
    "twitter.info()"
   ]
  },
  {
   "cell_type": "code",
   "execution_count": 55,
   "metadata": {},
   "outputs": [
    {
     "data": {
      "text/plain": [
       "CA    3983\n",
       "NY    2972\n",
       "FL    1634\n",
       "TX    1574\n",
       "GA     722\n",
       "IL     582\n",
       "NJ     514\n",
       "PA     489\n",
       "DC     456\n",
       "NC     410\n",
       "MD     408\n",
       "OH     386\n",
       "VA     384\n",
       "MA     362\n",
       "WA     342\n",
       "AZ     293\n",
       "TN     284\n",
       "NV     270\n",
       "MI     270\n",
       "OR     265\n",
       "IN     246\n",
       "CO     229\n",
       "SC     212\n",
       "MN     179\n",
       "WI     178\n",
       "HI     176\n",
       "MO     176\n",
       "LA     175\n",
       "AL     168\n",
       "CT     137\n",
       "KY     118\n",
       "KS     110\n",
       "UT      97\n",
       "OK      94\n",
       "DE      72\n",
       "AR      71\n",
       "NM      71\n",
       "RI      61\n",
       "ME      56\n",
       "NH      53\n",
       "ID      53\n",
       "NE      51\n",
       "MT      51\n",
       "IA      50\n",
       "MS      43\n",
       "SD      43\n",
       "WV      40\n",
       "VT      36\n",
       "PR      28\n",
       "AK      24\n",
       "VI      21\n",
       "ND      15\n",
       "WY      15\n",
       "GU       6\n",
       "PW       1\n",
       "Name: state, dtype: int64"
      ]
     },
     "execution_count": 55,
     "metadata": {},
     "output_type": "execute_result"
    }
   ],
   "source": [
    "twitter['state'].value_counts()"
   ]
  },
  {
   "cell_type": "code",
   "execution_count": 56,
   "metadata": {},
   "outputs": [],
   "source": [
    "twitter.drop(twitter[twitter['state'] == 'GU'].index, inplace=True)"
   ]
  },
  {
   "cell_type": "code",
   "execution_count": 57,
   "metadata": {},
   "outputs": [],
   "source": [
    "twitter.drop(twitter[twitter['state'] == 'PW'].index, inplace=True)"
   ]
  },
  {
   "cell_type": "code",
   "execution_count": 58,
   "metadata": {},
   "outputs": [],
   "source": [
    "twitter.drop(twitter[twitter['state'] == 'PR'].index, inplace = True)"
   ]
  },
  {
   "cell_type": "code",
   "execution_count": 59,
   "metadata": {},
   "outputs": [],
   "source": [
    "twitter.drop(twitter[twitter['state'] == 'VI'].index, inplace=True)"
   ]
  },
  {
   "cell_type": "code",
   "execution_count": 60,
   "metadata": {},
   "outputs": [
    {
     "data": {
      "text/plain": [
       "(19700, 5)"
      ]
     },
     "execution_count": 60,
     "metadata": {},
     "output_type": "execute_result"
    }
   ],
   "source": [
    "twitter.shape"
   ]
  },
  {
   "cell_type": "code",
   "execution_count": 61,
   "metadata": {},
   "outputs": [],
   "source": [
    "twitter.reset_index(drop=True, inplace = True)"
   ]
  },
  {
   "cell_type": "markdown",
   "metadata": {},
   "source": [
    "## Data Visualization"
   ]
  },
  {
   "cell_type": "code",
   "execution_count": null,
   "metadata": {},
   "outputs": [],
   "source": [
    "plt.figure(figsize = (15, 10))\n",
    "plt.hist(twitter['state'].sort_values(), bins = 50, color = 'teal')\n",
    "plt.title('Number of Tweets Posts Per State', fontsize = 20)\n",
    "plt.xlabel('US States', fontsize = 15)\n",
    "plt.ylabel('Frequency', fontsize = 15)\n",
    "plt.tight_layout();"
   ]
  },
  {
   "cell_type": "code",
   "execution_count": null,
   "metadata": {},
   "outputs": [],
   "source": [
    "twitter['stripped_text'] = twitter['text'].replace('\\nhttp\\S+', '', regex=True).replace('http\\S+', '', regex=True).replace('www\\S+', '', regex=True).replace('\\n\\n\\S+', '', regex=True).replace('\\n\\S+', '', regex=True)"
   ]
  },
  {
   "cell_type": "code",
   "execution_count": null,
   "metadata": {},
   "outputs": [],
   "source": [
    "twitter.head()"
   ]
  },
  {
   "cell_type": "code",
   "execution_count": null,
   "metadata": {},
   "outputs": [],
   "source": [
    "twitter['word_count'] = [len(twitter['stripped_text'][i].split()) for i in range(0, len(twitter['stripped_text']))]"
   ]
  },
  {
   "cell_type": "code",
   "execution_count": null,
   "metadata": {},
   "outputs": [],
   "source": [
    "height_twit = [twitter.groupby('state')['word_count'].mean()[i] for i in range(0, len(twitter.groupby('state')['word_count'].mean()))]\n",
    "height_twit[0:5]"
   ]
  },
  {
   "cell_type": "markdown",
   "metadata": {},
   "source": [
    "## Word Counts"
   ]
  },
  {
   "cell_type": "code",
   "execution_count": null,
   "metadata": {},
   "outputs": [],
   "source": [
    "plt.figure(figsize = (15, 10))\n",
    "plt.bar(twitter['state'].sort_values().unique(), height_twit, color = 'teal')\n",
    "plt.title('Mean Word Counts by State for Twitter', fontsize = 20)\n",
    "plt.xlabel('US States', fontsize = 15)\n",
    "plt.ylabel('Word Counts', fontsize = 15)\n",
    "plt.tight_layout();"
   ]
  },
  {
   "cell_type": "code",
   "execution_count": null,
   "metadata": {},
   "outputs": [],
   "source": [
    "plt.figure(figsize = (15, 10))\n",
    "plt.hlines(y=twitter['state'].sort_values().unique(), xmin=0, xmax=height_twit, color='skyblue')\n",
    "plt.plot(height_twit, twitter['state'].sort_values().unique(), \"o\")\n",
    "plt.title('Mean Word Counts by State for Twitter', fontsize = 20)\n",
    "plt.ylabel('US States', fontsize = 15)\n",
    "plt.xlabel('Word Counts', fontsize = 15)\n",
    "plt.tight_layout();"
   ]
  },
  {
   "cell_type": "markdown",
   "metadata": {},
   "source": [
    "## Frequently Used Words Using CountVectorizer"
   ]
  },
  {
   "cell_type": "code",
   "execution_count": null,
   "metadata": {},
   "outputs": [],
   "source": [
    "stop_words = text.ENGLISH_STOP_WORDS.union(['https', '2020'])\n",
    "#Code adapted from: https://www.kaggle.com/c/msk-redefining-cancer-treatment/discussion/37679"
   ]
  },
  {
   "cell_type": "code",
   "execution_count": null,
   "metadata": {},
   "outputs": [],
   "source": [
    "cvec2 = CountVectorizer(stop_words = stop_words)"
   ]
  },
  {
   "cell_type": "code",
   "execution_count": null,
   "metadata": {},
   "outputs": [],
   "source": [
    "X_twit = twitter['text']"
   ]
  },
  {
   "cell_type": "code",
   "execution_count": null,
   "metadata": {},
   "outputs": [],
   "source": [
    "Z_text = cvec2.fit_transform(X_twit)"
   ]
  },
  {
   "cell_type": "code",
   "execution_count": null,
   "metadata": {},
   "outputs": [],
   "source": [
    "Z_text_df = pd.DataFrame(Z_text.toarray(), columns = cvec2.get_feature_names())\n",
    "Z_text_df.head()"
   ]
  },
  {
   "cell_type": "code",
   "execution_count": null,
   "metadata": {},
   "outputs": [],
   "source": [
    "# Code adapted from global lect: NLP II\n",
    "\n",
    "top_words_twit = {}\n",
    "\n",
    "for i in Z_text_df.columns:\n",
    "    top_words_twit[i] = Z_text_df[i].sum()\n",
    "    \n",
    "most_freq_twit = pd.DataFrame(sorted(top_words_twit.items(), key = lambda x: x[1], reverse = True))"
   ]
  },
  {
   "cell_type": "code",
   "execution_count": null,
   "metadata": {},
   "outputs": [],
   "source": [
    "most_freq_twit.head(10)"
   ]
  },
  {
   "cell_type": "code",
   "execution_count": null,
   "metadata": {},
   "outputs": [],
   "source": [
    "# Code adapted from global lect: NLP II\n",
    "\n",
    "plt.figure(figsize = (11, 8))\n",
    "\n",
    "plt.bar(most_freq_twit[0][:20], most_freq_twit[1][:20])\n",
    "plt.title(\"Frequently Occurring Words in Twitter\\nPosts Across 50 States\", fontsize = 20)\n",
    "plt.xlabel(\"Words\", fontsize = 15)\n",
    "plt.xticks(rotation = 70)\n",
    "plt.ylabel(\"Frequency\", fontsize = 15)\n",
    "plt.tight_layout();"
   ]
  },
  {
   "cell_type": "markdown",
   "metadata": {},
   "source": [
    "### Bi-grams"
   ]
  },
  {
   "cell_type": "code",
   "execution_count": null,
   "metadata": {},
   "outputs": [],
   "source": [
    "cvec_bigram_twit = CountVectorizer(stop_words = stop_words, ngram_range = (2,2))"
   ]
  },
  {
   "cell_type": "code",
   "execution_count": null,
   "metadata": {},
   "outputs": [],
   "source": [
    "Z_bigram_twit = cvec_bigram_twit.fit_transform(X_twit)"
   ]
  },
  {
   "cell_type": "code",
   "execution_count": null,
   "metadata": {},
   "outputs": [],
   "source": [
    "Z_bigram_twit_df = pd.DataFrame(Z_bigram_twit.toarray(), columns = cvec_bigram_twit.get_feature_names())\n",
    "Z_bigram_twit_df.head()"
   ]
  },
  {
   "cell_type": "code",
   "execution_count": null,
   "metadata": {},
   "outputs": [],
   "source": [
    "# Code adapted from global lect: NLP II\n",
    "\n",
    "top_words_twit2 = {}\n",
    "\n",
    "for i in Z_bigram_twit_df.columns:\n",
    "    top_words_twit2[i] = Z_bigram_twit_df[i].sum()\n",
    "    \n",
    "most_freq_bigram_twit = pd.DataFrame(sorted(top_words_twit2.items(), key = lambda x: x[1], reverse = True))"
   ]
  },
  {
   "cell_type": "code",
   "execution_count": null,
   "metadata": {},
   "outputs": [],
   "source": [
    "most_freq_bigram_twit.head(10)"
   ]
  },
  {
   "cell_type": "code",
   "execution_count": null,
   "metadata": {},
   "outputs": [],
   "source": [
    "# Code adapted from global lect: NLP II\n",
    "\n",
    "plt.figure(figsize = (11, 8))\n",
    "\n",
    "plt.bar(most_freq_bigram_twit[0][:20], most_freq_bigram_twit[1][:20])\n",
    "plt.title(\"Frequently Occurring Bigram Words in Twitter\\nTitles Across 50 States\", fontsize = 20)\n",
    "plt.xlabel(\"Words\", fontsize = 15)\n",
    "plt.xticks(rotation = 70)\n",
    "plt.ylabel(\"Frequency\", fontsize = 15)\n",
    "plt.tight_layout();"
   ]
  },
  {
   "cell_type": "code",
   "execution_count": null,
   "metadata": {},
   "outputs": [],
   "source": [
    "# twitter.to_csv('./data/twitter_data_eda.csv', index=False)"
   ]
  },
  {
   "cell_type": "markdown",
   "metadata": {},
   "source": [
    "# EDA for COVID-19 Policies"
   ]
  },
  {
   "cell_type": "code",
   "execution_count": null,
   "metadata": {},
   "outputs": [],
   "source": [
    "policies.head(2)"
   ]
  },
  {
   "cell_type": "code",
   "execution_count": null,
   "metadata": {},
   "outputs": [],
   "source": [
    "policy_cols = ['Status of Reopening', 'Stay at Home Order', 'Large Gatherings Ban', 'Restaurant Limits', 'Bar Closures', 'Face Covering Requirement', 'Emergency Declaration']"
   ]
  },
  {
   "cell_type": "code",
   "execution_count": null,
   "metadata": {},
   "outputs": [],
   "source": [
    "df_policies = policies[policy_cols].copy()"
   ]
  },
  {
   "cell_type": "code",
   "execution_count": null,
   "metadata": {},
   "outputs": [],
   "source": [
    "df_policies['Location'] = policies['Location'].copy()\n",
    "df_policies.head()"
   ]
  },
  {
   "cell_type": "code",
   "execution_count": null,
   "metadata": {},
   "outputs": [],
   "source": [
    "df_policies.drop(0, inplace = True)"
   ]
  },
  {
   "cell_type": "markdown",
   "metadata": {},
   "source": [
    "## Reopening"
   ]
  },
  {
   "cell_type": "code",
   "execution_count": null,
   "metadata": {},
   "outputs": [],
   "source": [
    "\n",
    "policies[policy_cols[0]].value_counts()\n",
    "\n",
    "# Proceeding with Reopening: 1\n",
    "# New Restrictions Imposed: 0\n",
    "# Reopened: 1\n",
    "# Paused: 0"
   ]
  },
  {
   "cell_type": "code",
   "execution_count": null,
   "metadata": {},
   "outputs": [],
   "source": [
    "df_policies['dum_reopening'] = df_policies[policy_cols[0]].map({'Proceeding with Reopening': 1,\n",
    "                                                               'New Restrictions Imposed': 0,\n",
    "                                                               'Reopened': 1,\n",
    "                                                               'Paused': 0})"
   ]
  },
  {
   "cell_type": "markdown",
   "metadata": {},
   "source": [
    "## Stay at Home"
   ]
  },
  {
   "cell_type": "code",
   "execution_count": null,
   "metadata": {},
   "outputs": [],
   "source": [
    "\n",
    "policies[policy_cols[1]].value_counts()\n",
    "\n",
    "# Lifted: 1\n",
    "# -: 0\n",
    "# Rolled Back to High Risk Groups: 1\n",
    "# Statewide: 0"
   ]
  },
  {
   "cell_type": "code",
   "execution_count": null,
   "metadata": {},
   "outputs": [],
   "source": [
    "df_policies['dum_stay_home'] = df_policies[policy_cols[1]].map({'Lifted': 1,\n",
    "                                                     '-': 0,\n",
    "                                                     'Rolled Back to High Risk Groups': 1,\n",
    "                                                     'Statewide': 0})"
   ]
  },
  {
   "cell_type": "markdown",
   "metadata": {},
   "source": [
    "## Large Gatherings Ban"
   ]
  },
  {
   "cell_type": "code",
   "execution_count": null,
   "metadata": {},
   "outputs": [],
   "source": [
    "\n",
    "policies[policy_cols[2]].value_counts()\n",
    "\n",
    "# Expanded to New Limit Above 25: 1\n",
    "# Lifted: 1\n",
    "# New Limit on Large Gatherings in Place: 0\n",
    "# Expanded to New Limit of 25: 1\n",
    "# Expanded to New Limit Below 25: 0\n",
    "# >10 People Prohibited: 0\n",
    "# -: 0\n",
    "# All Gatherings Prohibited: 0\n",
    "# Other: 0"
   ]
  },
  {
   "cell_type": "code",
   "execution_count": null,
   "metadata": {},
   "outputs": [],
   "source": [
    "df_policies['dum_gatherings'] = df_policies[policy_cols[2]].map({\n",
    "    'Expanded to New Limit Above 25': 1,\n",
    "    'Lifted': 1,\n",
    "    'New Limit on Large Gatherings in Place': 0,\n",
    "    'Expanded to New Limit of 25': 1,\n",
    "    'Expanded to New Limit Below 25': 0,\n",
    "    '>10 People Prohibited': 0,\n",
    "    '-': 0,\n",
    "    'All Gatherings Prohibited': 0,\n",
    "    'Other': 0\n",
    "})"
   ]
  },
  {
   "cell_type": "markdown",
   "metadata": {},
   "source": [
    "## Restaurant Limits"
   ]
  },
  {
   "cell_type": "code",
   "execution_count": null,
   "metadata": {},
   "outputs": [],
   "source": [
    "policies[policy_cols[3]].value_counts()\n",
    "\n",
    "# Reopened to Dine-in Service with Capacity Limits: 1\n",
    "# Reopened to Dine-in Service: 1\n",
    "# New Service Limits:0\n",
    "# Newly Closed to Dine-in Service: 0\n",
    "# -: 0"
   ]
  },
  {
   "cell_type": "code",
   "execution_count": null,
   "metadata": {},
   "outputs": [],
   "source": [
    "df_policies['dum_restaurants'] = df_policies[policy_cols[3]].map({\n",
    "    'Reopened to Dine-in Service with Capacity Limits': 1,\n",
    "    'Reopened to Dine-in Service': 1, \n",
    "    'New Service Limits':0,\n",
    "    'Newly Closed to Dine-in Service': 0,\n",
    "    '-': 0\n",
    "})"
   ]
  },
  {
   "cell_type": "markdown",
   "metadata": {},
   "source": [
    "## Bar closures"
   ]
  },
  {
   "cell_type": "code",
   "execution_count": null,
   "metadata": {},
   "outputs": [],
   "source": [
    "policies[policy_cols[4]].value_counts()\n",
    "\n",
    "# Reopened: 1\n",
    "# Newly Closed: 0\n",
    "# Closed: 0\n",
    "# New Service Limits: 1"
   ]
  },
  {
   "cell_type": "code",
   "execution_count": null,
   "metadata": {},
   "outputs": [],
   "source": [
    "df_policies['dum_bars'] = df_policies[policy_cols[4]].map({\n",
    "    'Reopened': 1,\n",
    "    'Newly Closed': 0,\n",
    "    'Closed': 0,\n",
    "    'New Service Limits': 1\n",
    "})"
   ]
  },
  {
   "cell_type": "markdown",
   "metadata": {},
   "source": [
    "## Face Coverings"
   ]
  },
  {
   "cell_type": "code",
   "execution_count": null,
   "metadata": {},
   "outputs": [],
   "source": [
    "policies[policy_cols[5]].value_counts()\n",
    "\n",
    "# Required for General Public: 1\n",
    "# Required for Certain Employees: 1\n",
    "# -: 0\n",
    "# Allows Local Officals to Require for General Public: 1\n",
    "# Required for Certain Employees; Allows Local Officials to Require for General Public: 1\n"
   ]
  },
  {
   "cell_type": "code",
   "execution_count": null,
   "metadata": {},
   "outputs": [],
   "source": [
    "df_policies['dum_masks'] = df_policies[policy_cols[5]].map({\n",
    "    'Required for General Public': 1,\n",
    "    'Required for Certain Employees': 1,\n",
    "    '-': 0,\n",
    "    'Allows Local Officals to Require for General Public': 1,\n",
    "    'Required for Certain Employees; Allows Local Officials to Require for General Public': 1\n",
    "})"
   ]
  },
  {
   "cell_type": "markdown",
   "metadata": {},
   "source": [
    "## Emergency Declaration"
   ]
  },
  {
   "cell_type": "code",
   "execution_count": null,
   "metadata": {},
   "outputs": [],
   "source": [
    "policies[policy_cols[6]].value_counts()\n",
    "# Yes: 1"
   ]
  },
  {
   "cell_type": "code",
   "execution_count": null,
   "metadata": {},
   "outputs": [],
   "source": [
    "df_policies['dum_emergency_declaration'] = df_policies[policy_cols[6]].map({\n",
    "    'Yes': 1\n",
    "})"
   ]
  },
  {
   "cell_type": "code",
   "execution_count": null,
   "metadata": {},
   "outputs": [],
   "source": [
    "df_policies.head()"
   ]
  },
  {
   "cell_type": "code",
   "execution_count": null,
   "metadata": {},
   "outputs": [],
   "source": [
    "df_policies.info()"
   ]
  },
  {
   "cell_type": "code",
   "execution_count": null,
   "metadata": {},
   "outputs": [],
   "source": [
    "# df_policies.to_csv('./data/dummied_policies.csv', index=False)"
   ]
  },
  {
   "cell_type": "markdown",
   "metadata": {},
   "source": [
    "# Cleaning for COVID-19 Health Data"
   ]
  },
  {
   "cell_type": "code",
   "execution_count": null,
   "metadata": {},
   "outputs": [],
   "source": [
    "health = pd.read_csv('./data/health_july.csv')"
   ]
  },
  {
   "cell_type": "code",
   "execution_count": null,
   "metadata": {},
   "outputs": [],
   "source": [
    "health.head()"
   ]
  },
  {
   "cell_type": "code",
   "execution_count": null,
   "metadata": {},
   "outputs": [],
   "source": [
    "health['Unnamed: 0'].replace({\n",
    "    'AL':'alabama', \n",
    "    'AK':'alaska', \n",
    "    'AZ':'arizona', \n",
    "    'AR':'arkansas', \n",
    "    'CA':'california',\n",
    "    'CO':'colorado', \n",
    "    'CT':'connecticut', \n",
    "    'DE':'delaware', \n",
    "    'DC':'district_of_columbia',\n",
    "    'FL':'florida', \n",
    "    'GA':'georgia', \n",
    "    'HI':'hawaii', \n",
    "    'ID':'idaho', \n",
    "    'IL':'illinois', \n",
    "    'IN':'indiana',\n",
    "    'IA':'iowa', \n",
    "    'KS':'kansas', \n",
    "    'KY':'kentucky', \n",
    "    'LA':'louisiana', \n",
    "    'ME':'maine', \n",
    "    'MD':'maryland',\n",
    "    'MA':'massachusetts', \n",
    "    'MI':'michigan', \n",
    "    'MN':'minnesota', \n",
    "    'MS':'mississippi',\n",
    "    'MO':'missouri', \n",
    "    'MT':'montana', \n",
    "    'NE':'nebraska', \n",
    "    'NV':'nevada', \n",
    "    'NH':'new_hampshire',\n",
    "    'NJ':'new_jersey', \n",
    "    'NM':'new_mexico', \n",
    "    'NY':'new_york', \n",
    "    'NC':'north_carolina',\n",
    "    'ND':'north_dakota', \n",
    "    'OH':'ohio', \n",
    "    'OK':'oklahoma', \n",
    "    'OR':'oregon', \n",
    "    'PA':'pennsylvania',\n",
    "    'RI':'rhode_island', \n",
    "    'SC':'south_carolina', \n",
    "    'SD':'south_dakota', \n",
    "    'TN':'tennessee',\n",
    "    'TX':'texas', \n",
    "    'UT':'utah', \n",
    "    'VT':'vermont', \n",
    "    'VA':'virginia', \n",
    "    'WA':'washington',\n",
    "    'WV':'west_virginia', \n",
    "    'WI':'wisconsin', \n",
    "    'WY':'wyoming'\n",
    "}, inplace = True)"
   ]
  },
  {
   "cell_type": "code",
   "execution_count": null,
   "metadata": {},
   "outputs": [],
   "source": [
    "health.head()"
   ]
  },
  {
   "cell_type": "code",
   "execution_count": null,
   "metadata": {},
   "outputs": [],
   "source": [
    "health['Unnamed: 0'].unique()"
   ]
  },
  {
   "cell_type": "code",
   "execution_count": null,
   "metadata": {},
   "outputs": [],
   "source": [
    "health.drop(health[health['Unnamed: 0'] == 'AS'].index, inplace = True)"
   ]
  },
  {
   "cell_type": "code",
   "execution_count": null,
   "metadata": {},
   "outputs": [],
   "source": [
    "health.drop(health[health['Unnamed: 0'] == 'GU'].index, inplace = True)"
   ]
  },
  {
   "cell_type": "code",
   "execution_count": null,
   "metadata": {},
   "outputs": [],
   "source": [
    "health.drop(health[health['Unnamed: 0'] == 'MP'].index, inplace = True)"
   ]
  },
  {
   "cell_type": "code",
   "execution_count": null,
   "metadata": {},
   "outputs": [],
   "source": [
    "health.drop(health[health['Unnamed: 0'] == 'PR'].index, inplace = True)"
   ]
  },
  {
   "cell_type": "code",
   "execution_count": null,
   "metadata": {},
   "outputs": [],
   "source": [
    "health.drop(health[health['Unnamed: 0'] == 'VI'].index, inplace = True)"
   ]
  },
  {
   "cell_type": "code",
   "execution_count": null,
   "metadata": {},
   "outputs": [],
   "source": [
    "len(health['Unnamed: 0'].unique())"
   ]
  },
  {
   "cell_type": "code",
   "execution_count": null,
   "metadata": {},
   "outputs": [],
   "source": [
    "health.info()"
   ]
  },
  {
   "cell_type": "code",
   "execution_count": null,
   "metadata": {},
   "outputs": [],
   "source": [
    "# health.to_csv('./data/health.csv', index = False)"
   ]
  },
  {
   "cell_type": "code",
   "execution_count": null,
   "metadata": {},
   "outputs": [],
   "source": []
  }
 ],
 "metadata": {
  "kernelspec": {
   "display_name": "Python 3",
   "language": "python",
   "name": "python3"
  },
  "language_info": {
   "codemirror_mode": {
    "name": "ipython",
    "version": 3
   },
   "file_extension": ".py",
   "mimetype": "text/x-python",
   "name": "python",
   "nbconvert_exporter": "python",
   "pygments_lexer": "ipython3",
   "version": "3.7.6"
  }
 },
 "nbformat": 4,
 "nbformat_minor": 4
}
