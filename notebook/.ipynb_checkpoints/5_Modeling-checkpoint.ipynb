{
 "cells": [
  {
   "cell_type": "markdown",
   "metadata": {},
   "source": [
    "# Table of Contents\n",
    "\n",
    "1. [Imports](#Imports)\n",
    "2. [Modeling Reddit](#Modeling-Reddit)\n",
    "\t1. [Logistic Regression with Reddit Data](#Logistic-Regression-with-Reddit-Data)\n",
    "\t2. [RandomForest Classifier with Reddit Data](#RandomForest-Classifier-with-Reddit-Data)\n",
    "\t3. [Predicting Death Totals with Reddit Data](#Predicting-Death-Totals-with-Reddit-Data)\n",
    "\t\t1. [Linear Regression Reddit](#Linear-Regression-Reddit)\n",
    "3. [Modeling Twitter](#Modeling-Twitter)\n",
    "\t1. [LogisticRegression with Twitter](#LogisticRegression-with-Twitter)\n",
    "\t2. [RandomForest Classifier with Twitter](#RandomForest-Classifier-with-Twitter)\n",
    "\t3. [Predicting Death Totals with Twitter Data](#Predicting-Death-Totals-with-Twitter-Data)\t\n",
    "\t\t1. [Linear Regression Twitter](#Linear-Regression-Twitter)\n",
    "4. [Recommendations and Conclusions](#Recommendations-and-Conclusions)"
   ]
  },
  {
   "cell_type": "markdown",
   "metadata": {},
   "source": [
    "# Imports"
   ]
  },
  {
   "cell_type": "code",
   "execution_count": 1,
   "metadata": {},
   "outputs": [],
   "source": [
    "import pandas as pd\n",
    "import numpy as np\n",
    "import seaborn as sns\n",
    "import matplotlib.pyplot as plt\n",
    "\n",
    "from sklearn.model_selection import train_test_split, GridSearchCV, cross_val_score, RandomizedSearchCV\n",
    "from sklearn.pipeline import Pipeline, make_pipeline\n",
    "from sklearn.metrics import confusion_matrix, plot_confusion_matrix, accuracy_score\n",
    "from sklearn.linear_model import LogisticRegression, LinearRegression\n",
    "from sklearn.svm import SVC\n",
    "from sklearn.ensemble import RandomForestClassifier\n",
    "from sklearn.preprocessing import StandardScaler"
   ]
  },
  {
   "cell_type": "markdown",
   "metadata": {},
   "source": [
    "# Modeling Reddit"
   ]
  },
  {
   "cell_type": "code",
   "execution_count": 2,
   "metadata": {},
   "outputs": [],
   "source": [
    "reddit = pd.read_csv('../data/reddit_combined_data.csv')"
   ]
  },
  {
   "cell_type": "code",
   "execution_count": 3,
   "metadata": {},
   "outputs": [
    {
     "data": {
      "text/html": [
       "<div>\n",
       "<style scoped>\n",
       "    .dataframe tbody tr th:only-of-type {\n",
       "        vertical-align: middle;\n",
       "    }\n",
       "\n",
       "    .dataframe tbody tr th {\n",
       "        vertical-align: top;\n",
       "    }\n",
       "\n",
       "    .dataframe thead th {\n",
       "        text-align: right;\n",
       "    }\n",
       "</style>\n",
       "<table border=\"1\" class=\"dataframe\">\n",
       "  <thead>\n",
       "    <tr style=\"text-align: right;\">\n",
       "      <th></th>\n",
       "      <th>state</th>\n",
       "      <th>reddit_neg</th>\n",
       "      <th>reddit_neu</th>\n",
       "      <th>reddit_pos</th>\n",
       "      <th>reddit_compound</th>\n",
       "      <th>text</th>\n",
       "      <th>dum_reopening</th>\n",
       "      <th>dum_stay_home</th>\n",
       "      <th>dum_gatherings</th>\n",
       "      <th>dum_restaurants</th>\n",
       "      <th>dum_bars</th>\n",
       "      <th>dum_masks</th>\n",
       "      <th>dum_emergency_declaration</th>\n",
       "      <th>death_tot</th>\n",
       "      <th>hosp_tot</th>\n",
       "      <th>pos_tot</th>\n",
       "      <th>test_tot</th>\n",
       "      <th>pos_test_rate</th>\n",
       "      <th>pos_or_neg_sent</th>\n",
       "    </tr>\n",
       "  </thead>\n",
       "  <tbody>\n",
       "    <tr>\n",
       "      <th>0</th>\n",
       "      <td>alabama</td>\n",
       "      <td>0.125</td>\n",
       "      <td>0.626</td>\n",
       "      <td>0.249</td>\n",
       "      <td>0.2927</td>\n",
       "      <td>After public apology, Montgomery councilman’s ...</td>\n",
       "      <td>0</td>\n",
       "      <td>1</td>\n",
       "      <td>1</td>\n",
       "      <td>1</td>\n",
       "      <td>1</td>\n",
       "      <td>1</td>\n",
       "      <td>1</td>\n",
       "      <td>630</td>\n",
       "      <td>7752</td>\n",
       "      <td>49678</td>\n",
       "      <td>282815</td>\n",
       "      <td>0.1757</td>\n",
       "      <td>pos</td>\n",
       "    </tr>\n",
       "    <tr>\n",
       "      <th>1</th>\n",
       "      <td>alabama</td>\n",
       "      <td>0.000</td>\n",
       "      <td>1.000</td>\n",
       "      <td>0.000</td>\n",
       "      <td>0.0000</td>\n",
       "      <td>University of Alabama graduate tells his COVID...</td>\n",
       "      <td>0</td>\n",
       "      <td>1</td>\n",
       "      <td>1</td>\n",
       "      <td>1</td>\n",
       "      <td>1</td>\n",
       "      <td>1</td>\n",
       "      <td>1</td>\n",
       "      <td>630</td>\n",
       "      <td>7752</td>\n",
       "      <td>49678</td>\n",
       "      <td>282815</td>\n",
       "      <td>0.1757</td>\n",
       "      <td>pos</td>\n",
       "    </tr>\n",
       "    <tr>\n",
       "      <th>2</th>\n",
       "      <td>alabama</td>\n",
       "      <td>0.000</td>\n",
       "      <td>0.805</td>\n",
       "      <td>0.195</td>\n",
       "      <td>0.1779</td>\n",
       "      <td>Tuscaloosa adopts face mask law for public spaces</td>\n",
       "      <td>0</td>\n",
       "      <td>1</td>\n",
       "      <td>1</td>\n",
       "      <td>1</td>\n",
       "      <td>1</td>\n",
       "      <td>1</td>\n",
       "      <td>1</td>\n",
       "      <td>630</td>\n",
       "      <td>7752</td>\n",
       "      <td>49678</td>\n",
       "      <td>282815</td>\n",
       "      <td>0.1757</td>\n",
       "      <td>pos</td>\n",
       "    </tr>\n",
       "    <tr>\n",
       "      <th>3</th>\n",
       "      <td>alabama</td>\n",
       "      <td>0.146</td>\n",
       "      <td>0.657</td>\n",
       "      <td>0.197</td>\n",
       "      <td>0.1779</td>\n",
       "      <td>Coin shortage due to coronavirus: What’s happe...</td>\n",
       "      <td>0</td>\n",
       "      <td>1</td>\n",
       "      <td>1</td>\n",
       "      <td>1</td>\n",
       "      <td>1</td>\n",
       "      <td>1</td>\n",
       "      <td>1</td>\n",
       "      <td>630</td>\n",
       "      <td>7752</td>\n",
       "      <td>49678</td>\n",
       "      <td>282815</td>\n",
       "      <td>0.1757</td>\n",
       "      <td>pos</td>\n",
       "    </tr>\n",
       "    <tr>\n",
       "      <th>4</th>\n",
       "      <td>alabama</td>\n",
       "      <td>0.000</td>\n",
       "      <td>1.000</td>\n",
       "      <td>0.000</td>\n",
       "      <td>0.0000</td>\n",
       "      <td>[Study Results] How is Coronavirus Pandemic Af...</td>\n",
       "      <td>0</td>\n",
       "      <td>1</td>\n",
       "      <td>1</td>\n",
       "      <td>1</td>\n",
       "      <td>1</td>\n",
       "      <td>1</td>\n",
       "      <td>1</td>\n",
       "      <td>630</td>\n",
       "      <td>7752</td>\n",
       "      <td>49678</td>\n",
       "      <td>282815</td>\n",
       "      <td>0.1757</td>\n",
       "      <td>pos</td>\n",
       "    </tr>\n",
       "  </tbody>\n",
       "</table>\n",
       "</div>"
      ],
      "text/plain": [
       "     state  reddit_neg  reddit_neu  reddit_pos  reddit_compound  \\\n",
       "0  alabama       0.125       0.626       0.249           0.2927   \n",
       "1  alabama       0.000       1.000       0.000           0.0000   \n",
       "2  alabama       0.000       0.805       0.195           0.1779   \n",
       "3  alabama       0.146       0.657       0.197           0.1779   \n",
       "4  alabama       0.000       1.000       0.000           0.0000   \n",
       "\n",
       "                                                text  dum_reopening  \\\n",
       "0  After public apology, Montgomery councilman’s ...              0   \n",
       "1  University of Alabama graduate tells his COVID...              0   \n",
       "2  Tuscaloosa adopts face mask law for public spaces              0   \n",
       "3  Coin shortage due to coronavirus: What’s happe...              0   \n",
       "4  [Study Results] How is Coronavirus Pandemic Af...              0   \n",
       "\n",
       "   dum_stay_home  dum_gatherings  dum_restaurants  dum_bars  dum_masks  \\\n",
       "0              1               1                1         1          1   \n",
       "1              1               1                1         1          1   \n",
       "2              1               1                1         1          1   \n",
       "3              1               1                1         1          1   \n",
       "4              1               1                1         1          1   \n",
       "\n",
       "   dum_emergency_declaration  death_tot  hosp_tot  pos_tot  test_tot  \\\n",
       "0                          1        630      7752    49678    282815   \n",
       "1                          1        630      7752    49678    282815   \n",
       "2                          1        630      7752    49678    282815   \n",
       "3                          1        630      7752    49678    282815   \n",
       "4                          1        630      7752    49678    282815   \n",
       "\n",
       "   pos_test_rate pos_or_neg_sent  \n",
       "0         0.1757             pos  \n",
       "1         0.1757             pos  \n",
       "2         0.1757             pos  \n",
       "3         0.1757             pos  \n",
       "4         0.1757             pos  "
      ]
     },
     "execution_count": 3,
     "metadata": {},
     "output_type": "execute_result"
    }
   ],
   "source": [
    "reddit.head()"
   ]
  },
  {
   "cell_type": "code",
   "execution_count": 4,
   "metadata": {},
   "outputs": [],
   "source": [
    "reddit.set_index('state', inplace = True)"
   ]
  },
  {
   "cell_type": "code",
   "execution_count": 5,
   "metadata": {},
   "outputs": [
    {
     "data": {
      "text/plain": [
       "(9841, 18)"
      ]
     },
     "execution_count": 5,
     "metadata": {},
     "output_type": "execute_result"
    }
   ],
   "source": [
    "reddit.shape"
   ]
  },
  {
   "cell_type": "code",
   "execution_count": 6,
   "metadata": {},
   "outputs": [],
   "source": [
    "X = reddit.drop(columns = ['reddit_compound', 'text', 'pos_or_neg_sent', 'reddit_neg', 'reddit_pos'])\n",
    "y = reddit['pos_or_neg_sent']"
   ]
  },
  {
   "cell_type": "code",
   "execution_count": 7,
   "metadata": {},
   "outputs": [
    {
     "data": {
      "text/plain": [
       "pos    0.544863\n",
       "neg    0.455137\n",
       "Name: pos_or_neg_sent, dtype: float64"
      ]
     },
     "execution_count": 7,
     "metadata": {},
     "output_type": "execute_result"
    }
   ],
   "source": [
    "y.value_counts(normalize=True)"
   ]
  },
  {
   "cell_type": "code",
   "execution_count": 8,
   "metadata": {},
   "outputs": [],
   "source": [
    "X_train, X_test, y_train, y_test = train_test_split(X, y, random_state = 3000, stratify = y)"
   ]
  },
  {
   "cell_type": "code",
   "execution_count": 9,
   "metadata": {},
   "outputs": [],
   "source": [
    "ss = StandardScaler()\n",
    "\n",
    "Z_train = ss.fit_transform(X_train)\n",
    "Z_test = ss.transform(X_test)"
   ]
  },
  {
   "cell_type": "markdown",
   "metadata": {},
   "source": [
    "## Logistic Regression with Reddit Data"
   ]
  },
  {
   "cell_type": "code",
   "execution_count": 10,
   "metadata": {},
   "outputs": [
    {
     "data": {
      "text/plain": [
       "LogisticRegression()"
      ]
     },
     "execution_count": 10,
     "metadata": {},
     "output_type": "execute_result"
    }
   ],
   "source": [
    "logreg_r = LogisticRegression()\n",
    "\n",
    "logreg_r.fit(Z_train, y_train)"
   ]
  },
  {
   "cell_type": "code",
   "execution_count": 11,
   "metadata": {},
   "outputs": [
    {
     "name": "stdout",
     "output_type": "stream",
     "text": [
      "0.5634146341463414\n",
      "0.5505891913856156\n"
     ]
    }
   ],
   "source": [
    "print(logreg_r.score(Z_train, y_train))\n",
    "print(logreg_r.score(Z_test, y_test))"
   ]
  },
  {
   "cell_type": "code",
   "execution_count": 12,
   "metadata": {},
   "outputs": [],
   "source": [
    "preds_logreg_r = logreg_r.predict(Z_test)"
   ]
  },
  {
   "cell_type": "code",
   "execution_count": 13,
   "metadata": {},
   "outputs": [
    {
     "data": {
      "text/plain": [
       "Text(0.5, 1.0, 'Confusion Matrix Predicting\\nPositive or Negative Sentiment')"
      ]
     },
     "execution_count": 13,
     "metadata": {},
     "output_type": "execute_result"
    },
    {
     "data": {
      "image/png": "[encoded data removed]",
      "text/plain": [
       "<Figure size 432x288 with 2 Axes>"
      ]
     },
     "metadata": {
      "needs_background": "light"
     },
     "output_type": "display_data"
    }
   ],
   "source": [
    "tn, fp, fn, tp = confusion_matrix(y_test, preds_logreg_r).ravel()\n",
    "plot_confusion_matrix(logreg_r, Z_test, y_test, cmap = 'Greens', values_format = 'd');\n",
    "plt.title(\"Confusion Matrix Predicting\\nPositive or Negative Sentiment\", fontsize=12)"
   ]
  },
  {
   "cell_type": "markdown",
   "metadata": {},
   "source": [
    "> This confusion matrix using scaled data and Logistic Regression shows that the model had difficulty with specificity. It was not able to accurately predict negative sentiment in the reddit data with 821 false positive predictions. Additionally, the baseline for this model was 0.54 positive sentiments and 0.46 negative sentiments. This logistic regression model performed slightly better than the baseline with 0.55 of the data accurately accounted for."
   ]
  },
  {
   "cell_type": "code",
   "execution_count": 14,
   "metadata": {},
   "outputs": [],
   "source": [
    "# Code adapted from global lect: Classification Metrics II\n",
    "\n",
    "pred_proba_r = [i[1] for i in logreg_r.predict_proba(Z_test)]\n",
    "\n",
    "pred_df_r = pd.DataFrame({'true_values': y_test,\n",
    "                        'pred_probs':pred_proba_r})"
   ]
  },
  {
   "cell_type": "code",
   "execution_count": 15,
   "metadata": {},
   "outputs": [
    {
     "data": {
      "image/png": "[encoded data removed]",
      "text/plain": [
       "<Figure size 936x648 with 1 Axes>"
      ]
     },
     "metadata": {
      "needs_background": "light"
     },
     "output_type": "display_data"
    }
   ],
   "source": [
    "# Code adapted from global lect: Classification Metrics II\n",
    "\n",
    "# Create figure.\n",
    "plt.figure(figsize = (13,9))\n",
    "\n",
    "# Create two histograms of observations.\n",
    "plt.hist(pred_df_r[pred_df_r['true_values'] == 'neg']['pred_probs'],\n",
    "         bins=25,\n",
    "         color='purple',\n",
    "         alpha = 0.6,\n",
    "         label='Actual Outcome = neg')\n",
    "plt.hist(pred_df_r[pred_df_r['true_values'] == 'pos']['pred_probs'],\n",
    "         bins=25,\n",
    "         color='orange',\n",
    "         alpha = 0.6,\n",
    "         label='Actual Outcome = pos')\n",
    "\n",
    "# Add vertical line at P(Outcome = 1) = 0.5.\n",
    "plt.vlines(x=0.5,\n",
    "           ymin = 0,\n",
    "           ymax = 250,\n",
    "           color='black',\n",
    "           linestyle = '--')\n",
    "\n",
    "# Label axes.\n",
    "plt.title('Distribution of P(Outcome = 1)', fontsize=22)\n",
    "plt.ylabel('Frequency', fontsize=18)\n",
    "plt.xlabel('Predicted Probability that Outcome = 1', fontsize=18)\n",
    "\n",
    "# Create legend.\n",
    "plt.legend(fontsize=20);"
   ]
  },
  {
   "cell_type": "markdown",
   "metadata": {},
   "source": [
    "## RandomForest Classifier with Reddit Data"
   ]
  },
  {
   "cell_type": "code",
   "execution_count": 16,
   "metadata": {},
   "outputs": [],
   "source": [
    "params_rf_r = {\n",
    "    'n_estimators': [100, 150, 200],\n",
    "    'max_depth': [5, 7, 9],\n",
    "    'min_samples_split': [2, 4, 6]\n",
    "}\n",
    "\n",
    "grid_rf_r = GridSearchCV(RandomForestClassifier(),\n",
    "                        params_rf_r,\n",
    "                        cv = 5,\n",
    "                        verbose = 1)\n"
   ]
  },
  {
   "cell_type": "code",
   "execution_count": 17,
   "metadata": {},
   "outputs": [
    {
     "name": "stdout",
     "output_type": "stream",
     "text": [
      "Fitting 5 folds for each of 27 candidates, totalling 135 fits\n"
     ]
    },
    {
     "name": "stderr",
     "output_type": "stream",
     "text": [
      "[Parallel(n_jobs=1)]: Using backend SequentialBackend with 1 concurrent workers.\n",
      "[Parallel(n_jobs=1)]: Done 135 out of 135 | elapsed:  1.9min finished\n"
     ]
    },
    {
     "data": {
      "text/plain": [
       "GridSearchCV(cv=5, estimator=RandomForestClassifier(),\n",
       "             param_grid={'max_depth': [5, 7, 9], 'min_samples_split': [2, 4, 6],\n",
       "                         'n_estimators': [100, 150, 200]},\n",
       "             verbose=1)"
      ]
     },
     "execution_count": 17,
     "metadata": {},
     "output_type": "execute_result"
    }
   ],
   "source": [
    "grid_rf_r.fit(Z_train, y_train)"
   ]
  },
  {
   "cell_type": "code",
   "execution_count": 18,
   "metadata": {},
   "outputs": [
    {
     "data": {
      "text/plain": [
       "{'max_depth': 7, 'min_samples_split': 2, 'n_estimators': 100}"
      ]
     },
     "execution_count": 18,
     "metadata": {},
     "output_type": "execute_result"
    }
   ],
   "source": [
    "grid_rf_r.best_params_"
   ]
  },
  {
   "cell_type": "code",
   "execution_count": 19,
   "metadata": {},
   "outputs": [
    {
     "data": {
      "text/plain": [
       "(0.6193766937669377, 0.5648110524177163)"
      ]
     },
     "execution_count": 19,
     "metadata": {},
     "output_type": "execute_result"
    }
   ],
   "source": [
    "grid_rf_r.score(Z_train, y_train), grid_rf_r.score(Z_test, y_test)"
   ]
  },
  {
   "cell_type": "code",
   "execution_count": 20,
   "metadata": {},
   "outputs": [
    {
     "data": {
      "text/plain": [
       "Text(0.5, 1.0, 'Confusion Matrix Predicting\\nPositive or Negative Sentiment')"
      ]
     },
     "execution_count": 20,
     "metadata": {},
     "output_type": "execute_result"
    },
    {
     "data": {
      "image/png": "[encoded data removed]",
      "text/plain": [
       "<Figure size 432x288 with 2 Axes>"
      ]
     },
     "metadata": {
      "needs_background": "light"
     },
     "output_type": "display_data"
    }
   ],
   "source": [
    "plot_confusion_matrix(grid_rf_r, Z_test, y_test, cmap = 'Greens', values_format = 'd');\n",
    "plt.title(\"Confusion Matrix Predicting\\nPositive or Negative Sentiment\", fontsize=12)"
   ]
  },
  {
   "cell_type": "markdown",
   "metadata": {},
   "source": [
    "> This confusion matrix using scaled data and random forest classifier shows that the model had difficulty with specificity. It was not able to accurately predict negative sentiment in the reddit data with 756 false positive predictions. Additionally, the baseline for this model was 0.54 positive sentiments and 0.46 negative sentiments. This random forest classifier model performed slightly better than the baseline and the logistic regression model with 0.56 of the data accurately accounted for."
   ]
  },
  {
   "cell_type": "code",
   "execution_count": 21,
   "metadata": {},
   "outputs": [],
   "source": [
    "# Code adapted from global lect: Classification Metrics II\n",
    "\n",
    "pred_proba_rf_r = [i[1] for i in grid_rf_r.predict_proba(Z_test)]\n",
    "\n",
    "pred_df_rf_r = pd.DataFrame({'true_values': y_test,\n",
    "                        'pred_probs':pred_proba_rf_r})"
   ]
  },
  {
   "cell_type": "code",
   "execution_count": 22,
   "metadata": {},
   "outputs": [
    {
     "data": {
      "image/png": "[encoded data removed]",
      "text/plain": [
       "<Figure size 936x648 with 1 Axes>"
      ]
     },
     "metadata": {
      "needs_background": "light"
     },
     "output_type": "display_data"
    }
   ],
   "source": [
    "# Code adapted from global lect: Classification Metrics II\n",
    "\n",
    "# Create figure.\n",
    "plt.figure(figsize = (13,9))\n",
    "\n",
    "# Create two histograms of observations.\n",
    "plt.hist(pred_df_rf_r[pred_df_rf_r['true_values'] == 'neg']['pred_probs'],\n",
    "         bins=25,\n",
    "         color='purple',\n",
    "         alpha = 0.6,\n",
    "         label='Actual Outcome = neg')\n",
    "plt.hist(pred_df_r[pred_df_r['true_values'] == 'pos']['pred_probs'],\n",
    "         bins=25,\n",
    "         color='orange',\n",
    "         alpha = 0.6,\n",
    "         label='Actual Outcome = pos')\n",
    "\n",
    "# Add vertical line at P(Outcome = 1) = 0.5.\n",
    "plt.vlines(x=0.5,\n",
    "           ymin = 0,\n",
    "           ymax = 250,\n",
    "           color='black',\n",
    "           linestyle = '--')\n",
    "\n",
    "# Label axes.\n",
    "plt.title('Distribution of P(Outcome = 1)', fontsize=22)\n",
    "plt.ylabel('Frequency', fontsize=18)\n",
    "plt.xlabel('Predicted Probability that Outcome = 1', fontsize=18)\n",
    "\n",
    "# Create legend.\n",
    "plt.legend(fontsize=20);"
   ]
  },
  {
   "cell_type": "markdown",
   "metadata": {},
   "source": [
    "## Predicting Death Totals with Reddit Data"
   ]
  },
  {
   "cell_type": "markdown",
   "metadata": {},
   "source": [
    "### Linear Regression Reddit"
   ]
  },
  {
   "cell_type": "code",
   "execution_count": 23,
   "metadata": {},
   "outputs": [],
   "source": [
    "X2 = reddit.drop(columns = ['text', 'death_tot', 'pos_or_neg_sent'])\n",
    "y2 = reddit['death_tot']"
   ]
  },
  {
   "cell_type": "code",
   "execution_count": 24,
   "metadata": {},
   "outputs": [],
   "source": [
    "X_train2, X_test2, y_train2, y_test2 = train_test_split(X2, y2, random_state = 3000)"
   ]
  },
  {
   "cell_type": "code",
   "execution_count": 25,
   "metadata": {},
   "outputs": [],
   "source": [
    "ss2 = StandardScaler()\n",
    "\n",
    "Z_train2 = ss2.fit_transform(X_train2)\n",
    "Z_test2 = ss2.transform(X_test2)"
   ]
  },
  {
   "cell_type": "code",
   "execution_count": 26,
   "metadata": {},
   "outputs": [
    {
     "data": {
      "text/plain": [
       "LinearRegression()"
      ]
     },
     "execution_count": 26,
     "metadata": {},
     "output_type": "execute_result"
    }
   ],
   "source": [
    "linreg = LinearRegression()\n",
    "\n",
    "linreg.fit(Z_train2, y_train2)"
   ]
  },
  {
   "cell_type": "code",
   "execution_count": 27,
   "metadata": {},
   "outputs": [
    {
     "data": {
      "text/plain": [
       "(0.9813217161211529, 0.9806115308348724)"
      ]
     },
     "execution_count": 27,
     "metadata": {},
     "output_type": "execute_result"
    }
   ],
   "source": [
    "linreg.score(Z_train2, y_train2), linreg.score(Z_test2, y_test2)"
   ]
  },
  {
   "cell_type": "markdown",
   "metadata": {},
   "source": [
    "> Linear regression was used to predict the death totals from each post using sentiment scores, policy data, and other health data like the number of tests positive as features. With this data, the model was able to predict death totals with an R^2 score of 0.98."
   ]
  },
  {
   "cell_type": "markdown",
   "metadata": {},
   "source": [
    "# Modeling Twitter"
   ]
  },
  {
   "cell_type": "code",
   "execution_count": 28,
   "metadata": {},
   "outputs": [],
   "source": [
    "twitter = pd.read_csv('../data/tweets_combined_data.csv')"
   ]
  },
  {
   "cell_type": "code",
   "execution_count": 29,
   "metadata": {},
   "outputs": [],
   "source": [
    "twitter.set_index('state', inplace = True)"
   ]
  },
  {
   "cell_type": "code",
   "execution_count": 30,
   "metadata": {},
   "outputs": [
    {
     "data": {
      "text/html": [
       "<div>\n",
       "<style scoped>\n",
       "    .dataframe tbody tr th:only-of-type {\n",
       "        vertical-align: middle;\n",
       "    }\n",
       "\n",
       "    .dataframe tbody tr th {\n",
       "        vertical-align: top;\n",
       "    }\n",
       "\n",
       "    .dataframe thead th {\n",
       "        text-align: right;\n",
       "    }\n",
       "</style>\n",
       "<table border=\"1\" class=\"dataframe\">\n",
       "  <thead>\n",
       "    <tr style=\"text-align: right;\">\n",
       "      <th></th>\n",
       "      <th>twitter_neg</th>\n",
       "      <th>twitter_neu</th>\n",
       "      <th>twitter_pos</th>\n",
       "      <th>twitter_compound</th>\n",
       "      <th>text</th>\n",
       "      <th>dum_reopening</th>\n",
       "      <th>dum_stay_home</th>\n",
       "      <th>dum_gatherings</th>\n",
       "      <th>dum_restaurants</th>\n",
       "      <th>dum_bars</th>\n",
       "      <th>dum_masks</th>\n",
       "      <th>dum_emergency_declaration</th>\n",
       "      <th>death_tot</th>\n",
       "      <th>hosp_tot</th>\n",
       "      <th>pos_tot</th>\n",
       "      <th>test_tot</th>\n",
       "      <th>pos_test_rate</th>\n",
       "      <th>pos_or_neg_sent</th>\n",
       "    </tr>\n",
       "    <tr>\n",
       "      <th>state</th>\n",
       "      <th></th>\n",
       "      <th></th>\n",
       "      <th></th>\n",
       "      <th></th>\n",
       "      <th></th>\n",
       "      <th></th>\n",
       "      <th></th>\n",
       "      <th></th>\n",
       "      <th></th>\n",
       "      <th></th>\n",
       "      <th></th>\n",
       "      <th></th>\n",
       "      <th></th>\n",
       "      <th></th>\n",
       "      <th></th>\n",
       "      <th></th>\n",
       "      <th></th>\n",
       "      <th></th>\n",
       "    </tr>\n",
       "  </thead>\n",
       "  <tbody>\n",
       "    <tr>\n",
       "      <th>california</th>\n",
       "      <td>0.046</td>\n",
       "      <td>0.868</td>\n",
       "      <td>0.087</td>\n",
       "      <td>0.3802</td>\n",
       "      <td>What do you wear for a Summer dinner in San Fr...</td>\n",
       "      <td>0</td>\n",
       "      <td>0</td>\n",
       "      <td>0</td>\n",
       "      <td>0</td>\n",
       "      <td>0</td>\n",
       "      <td>1</td>\n",
       "      <td>1</td>\n",
       "      <td>3025</td>\n",
       "      <td>0</td>\n",
       "      <td>264856</td>\n",
       "      <td>3643902</td>\n",
       "      <td>0.0727</td>\n",
       "      <td>pos</td>\n",
       "    </tr>\n",
       "    <tr>\n",
       "      <th>california</th>\n",
       "      <td>0.079</td>\n",
       "      <td>0.686</td>\n",
       "      <td>0.234</td>\n",
       "      <td>0.6467</td>\n",
       "      <td>Glad @theranchanaheim didn’t let Covid stop th...</td>\n",
       "      <td>0</td>\n",
       "      <td>0</td>\n",
       "      <td>0</td>\n",
       "      <td>0</td>\n",
       "      <td>0</td>\n",
       "      <td>1</td>\n",
       "      <td>1</td>\n",
       "      <td>3025</td>\n",
       "      <td>0</td>\n",
       "      <td>264856</td>\n",
       "      <td>3643902</td>\n",
       "      <td>0.0727</td>\n",
       "      <td>pos</td>\n",
       "    </tr>\n",
       "    <tr>\n",
       "      <th>california</th>\n",
       "      <td>0.000</td>\n",
       "      <td>1.000</td>\n",
       "      <td>0.000</td>\n",
       "      <td>0.0000</td>\n",
       "      <td>I ordered a $20,000 Jane Chair on Etsy and thi...</td>\n",
       "      <td>0</td>\n",
       "      <td>0</td>\n",
       "      <td>0</td>\n",
       "      <td>0</td>\n",
       "      <td>0</td>\n",
       "      <td>1</td>\n",
       "      <td>1</td>\n",
       "      <td>3025</td>\n",
       "      <td>0</td>\n",
       "      <td>264856</td>\n",
       "      <td>3643902</td>\n",
       "      <td>0.0727</td>\n",
       "      <td>pos</td>\n",
       "    </tr>\n",
       "    <tr>\n",
       "      <th>california</th>\n",
       "      <td>0.000</td>\n",
       "      <td>0.704</td>\n",
       "      <td>0.296</td>\n",
       "      <td>0.6369</td>\n",
       "      <td>🥰 Trés amigas 🥰 birthday my love 💕  #besties #...</td>\n",
       "      <td>0</td>\n",
       "      <td>0</td>\n",
       "      <td>0</td>\n",
       "      <td>0</td>\n",
       "      <td>0</td>\n",
       "      <td>1</td>\n",
       "      <td>1</td>\n",
       "      <td>3025</td>\n",
       "      <td>0</td>\n",
       "      <td>264856</td>\n",
       "      <td>3643902</td>\n",
       "      <td>0.0727</td>\n",
       "      <td>pos</td>\n",
       "    </tr>\n",
       "    <tr>\n",
       "      <th>california</th>\n",
       "      <td>0.000</td>\n",
       "      <td>0.917</td>\n",
       "      <td>0.083</td>\n",
       "      <td>0.4404</td>\n",
       "      <td>The Covid Chronicles of me. From dropping off ...</td>\n",
       "      <td>0</td>\n",
       "      <td>0</td>\n",
       "      <td>0</td>\n",
       "      <td>0</td>\n",
       "      <td>0</td>\n",
       "      <td>1</td>\n",
       "      <td>1</td>\n",
       "      <td>3025</td>\n",
       "      <td>0</td>\n",
       "      <td>264856</td>\n",
       "      <td>3643902</td>\n",
       "      <td>0.0727</td>\n",
       "      <td>pos</td>\n",
       "    </tr>\n",
       "  </tbody>\n",
       "</table>\n",
       "</div>"
      ],
      "text/plain": [
       "            twitter_neg  twitter_neu  twitter_pos  twitter_compound  \\\n",
       "state                                                                 \n",
       "california        0.046        0.868        0.087            0.3802   \n",
       "california        0.079        0.686        0.234            0.6467   \n",
       "california        0.000        1.000        0.000            0.0000   \n",
       "california        0.000        0.704        0.296            0.6369   \n",
       "california        0.000        0.917        0.083            0.4404   \n",
       "\n",
       "                                                         text  dum_reopening  \\\n",
       "state                                                                          \n",
       "california  What do you wear for a Summer dinner in San Fr...              0   \n",
       "california  Glad @theranchanaheim didn’t let Covid stop th...              0   \n",
       "california  I ordered a $20,000 Jane Chair on Etsy and thi...              0   \n",
       "california  🥰 Trés amigas 🥰 birthday my love 💕  #besties #...              0   \n",
       "california  The Covid Chronicles of me. From dropping off ...              0   \n",
       "\n",
       "            dum_stay_home  dum_gatherings  dum_restaurants  dum_bars  \\\n",
       "state                                                                  \n",
       "california              0               0                0         0   \n",
       "california              0               0                0         0   \n",
       "california              0               0                0         0   \n",
       "california              0               0                0         0   \n",
       "california              0               0                0         0   \n",
       "\n",
       "            dum_masks  dum_emergency_declaration  death_tot  hosp_tot  \\\n",
       "state                                                                   \n",
       "california          1                          1       3025         0   \n",
       "california          1                          1       3025         0   \n",
       "california          1                          1       3025         0   \n",
       "california          1                          1       3025         0   \n",
       "california          1                          1       3025         0   \n",
       "\n",
       "            pos_tot  test_tot  pos_test_rate pos_or_neg_sent  \n",
       "state                                                         \n",
       "california   264856   3643902         0.0727             pos  \n",
       "california   264856   3643902         0.0727             pos  \n",
       "california   264856   3643902         0.0727             pos  \n",
       "california   264856   3643902         0.0727             pos  \n",
       "california   264856   3643902         0.0727             pos  "
      ]
     },
     "execution_count": 30,
     "metadata": {},
     "output_type": "execute_result"
    }
   ],
   "source": [
    "twitter.head()"
   ]
  },
  {
   "cell_type": "code",
   "execution_count": 31,
   "metadata": {},
   "outputs": [],
   "source": [
    "X_t = twitter.drop(columns = ['twitter_compound', 'text', 'pos_or_neg_sent', 'twitter_neg', 'twitter_pos'])\n",
    "y_t = twitter['pos_or_neg_sent']"
   ]
  },
  {
   "cell_type": "code",
   "execution_count": 32,
   "metadata": {},
   "outputs": [
    {
     "data": {
      "text/plain": [
       "pos    0.762843\n",
       "neg    0.237157\n",
       "Name: pos_or_neg_sent, dtype: float64"
      ]
     },
     "execution_count": 32,
     "metadata": {},
     "output_type": "execute_result"
    }
   ],
   "source": [
    "y_t.value_counts(normalize=True)"
   ]
  },
  {
   "cell_type": "code",
   "execution_count": 33,
   "metadata": {},
   "outputs": [],
   "source": [
    "X_train_t, X_test_t, y_train_t, y_test_t = train_test_split(X_t, y_t, random_state = 3000, stratify = y_t)"
   ]
  },
  {
   "cell_type": "code",
   "execution_count": 34,
   "metadata": {},
   "outputs": [],
   "source": [
    "ss_t = StandardScaler()\n",
    "\n",
    "Z_train_t = ss_t.fit_transform(X_train_t)\n",
    "Z_test_t = ss_t.transform(X_test_t)"
   ]
  },
  {
   "cell_type": "markdown",
   "metadata": {},
   "source": [
    "## LogisticRegression with Twitter"
   ]
  },
  {
   "cell_type": "code",
   "execution_count": 35,
   "metadata": {},
   "outputs": [
    {
     "data": {
      "text/plain": [
       "LogisticRegression()"
      ]
     },
     "execution_count": 35,
     "metadata": {},
     "output_type": "execute_result"
    }
   ],
   "source": [
    "logreg_t = LogisticRegression()\n",
    "\n",
    "logreg_t.fit(Z_train_t, y_train_t)"
   ]
  },
  {
   "cell_type": "code",
   "execution_count": 36,
   "metadata": {},
   "outputs": [
    {
     "data": {
      "text/plain": [
       "(0.7628426395939086, 0.7628426395939086)"
      ]
     },
     "execution_count": 36,
     "metadata": {},
     "output_type": "execute_result"
    }
   ],
   "source": [
    "logreg_t.score(Z_train_t, y_train_t), logreg_t.score(Z_test_t, y_test_t)"
   ]
  },
  {
   "cell_type": "code",
   "execution_count": 37,
   "metadata": {},
   "outputs": [
    {
     "data": {
      "text/plain": [
       "Text(0.5, 1.0, 'Confusion Matrix Predicting\\nPositive or Negative Sentiment')"
      ]
     },
     "execution_count": 37,
     "metadata": {},
     "output_type": "execute_result"
    },
    {
     "data": {
      "image/png": "[encoded data removed]",
      "text/plain": [
       "<Figure size 432x288 with 2 Axes>"
      ]
     },
     "metadata": {
      "needs_background": "light"
     },
     "output_type": "display_data"
    }
   ],
   "source": [
    "plot_confusion_matrix(logreg_t, Z_test_t, y_test_t, cmap = 'Blues', values_format = 'd');\n",
    "plt.title(\"Confusion Matrix Predicting\\nPositive or Negative Sentiment\", fontsize=12)"
   ]
  },
  {
   "cell_type": "markdown",
   "metadata": {},
   "source": [
    "> This confusion matrix using scaled data and logistic regression shows that the model had difficulty with specificity. It was not able to accurately predict negative sentiment in the twitter data with 1168 false positive predictions. In fact, with the baseline data of 0.76 positive sentiments, this model though it was better to simply predict all positive sentiments and 0 negative sentiments. By predicting only positive values, this model accounted for 0.76 of the data."
   ]
  },
  {
   "cell_type": "code",
   "execution_count": 38,
   "metadata": {},
   "outputs": [],
   "source": [
    "# Code adapted from global lect: Classification Metrics II\n",
    "\n",
    "pred_proba_t = [i[1] for i in logreg_t.predict_proba(Z_test_t)]\n",
    "\n",
    "pred_df_t = pd.DataFrame({'true_values': y_test_t,\n",
    "                        'pred_probs':pred_proba_t})"
   ]
  },
  {
   "cell_type": "code",
   "execution_count": 39,
   "metadata": {},
   "outputs": [
    {
     "data": {
      "image/png": "[encoded data removed]",
      "text/plain": [
       "<Figure size 936x648 with 1 Axes>"
      ]
     },
     "metadata": {
      "needs_background": "light"
     },
     "output_type": "display_data"
    }
   ],
   "source": [
    "# Code adapted from global lect: Classification Metrics II\n",
    "\n",
    "# Create figure.\n",
    "plt.figure(figsize = (13,9))\n",
    "\n",
    "# Create two histograms of observations.\n",
    "plt.hist(pred_df_t[pred_df_t['true_values'] == 'neg']['pred_probs'],\n",
    "         bins=25,\n",
    "         color='purple',\n",
    "         alpha = 0.6,\n",
    "         label='Actual Outcome = neg')\n",
    "plt.hist(pred_df_t[pred_df_t['true_values'] == 'pos']['pred_probs'],\n",
    "         bins=25,\n",
    "         color='orange',\n",
    "         alpha = 0.6,\n",
    "         label='Actual Outcome = pos')\n",
    "\n",
    "# Add vertical line at P(Outcome = 1) = 0.5.\n",
    "plt.vlines(x=0.5,\n",
    "           ymin = 0,\n",
    "           ymax = 250,\n",
    "           color='black',\n",
    "           linestyle = '--')\n",
    "\n",
    "# Label axes.\n",
    "plt.title('Distribution of P(Outcome = 1)', fontsize=22)\n",
    "plt.ylabel('Frequency', fontsize=18)\n",
    "plt.xlabel('Predicted Probability that Outcome = 1', fontsize=18)\n",
    "\n",
    "# Create legend.\n",
    "plt.legend(fontsize=20);"
   ]
  },
  {
   "cell_type": "markdown",
   "metadata": {},
   "source": [
    "## RandomForest Classifier with Twitter"
   ]
  },
  {
   "cell_type": "code",
   "execution_count": 40,
   "metadata": {},
   "outputs": [],
   "source": [
    "params_rf_t = {\n",
    "    'n_estimators': [100, 150, 200],\n",
    "    'max_depth': [5, 7, 9],\n",
    "    'min_samples_split': [2, 4, 6]\n",
    "}\n",
    "\n",
    "grid_rf_t = GridSearchCV(RandomForestClassifier(),\n",
    "                        params_rf_t,\n",
    "                        cv = 5,\n",
    "                        verbose = 1)\n"
   ]
  },
  {
   "cell_type": "code",
   "execution_count": 41,
   "metadata": {},
   "outputs": [
    {
     "name": "stdout",
     "output_type": "stream",
     "text": [
      "Fitting 5 folds for each of 27 candidates, totalling 135 fits\n"
     ]
    },
    {
     "name": "stderr",
     "output_type": "stream",
     "text": [
      "[Parallel(n_jobs=1)]: Using backend SequentialBackend with 1 concurrent workers.\n",
      "[Parallel(n_jobs=1)]: Done 135 out of 135 | elapsed:  2.8min finished\n"
     ]
    },
    {
     "data": {
      "text/plain": [
       "GridSearchCV(cv=5, estimator=RandomForestClassifier(),\n",
       "             param_grid={'max_depth': [5, 7, 9], 'min_samples_split': [2, 4, 6],\n",
       "                         'n_estimators': [100, 150, 200]},\n",
       "             verbose=1)"
      ]
     },
     "execution_count": 41,
     "metadata": {},
     "output_type": "execute_result"
    }
   ],
   "source": [
    "grid_rf_t.fit(Z_train_t, y_train_t)"
   ]
  },
  {
   "cell_type": "code",
   "execution_count": 42,
   "metadata": {},
   "outputs": [
    {
     "data": {
      "text/plain": [
       "{'max_depth': 5, 'min_samples_split': 2, 'n_estimators': 100}"
      ]
     },
     "execution_count": 42,
     "metadata": {},
     "output_type": "execute_result"
    }
   ],
   "source": [
    "grid_rf_t.best_params_"
   ]
  },
  {
   "cell_type": "code",
   "execution_count": 43,
   "metadata": {},
   "outputs": [
    {
     "data": {
      "text/plain": [
       "(0.7628426395939086, 0.7628426395939086)"
      ]
     },
     "execution_count": 43,
     "metadata": {},
     "output_type": "execute_result"
    }
   ],
   "source": [
    "grid_rf_t.score(Z_train_t, y_train_t), grid_rf_t.score(Z_test_t, y_test_t)"
   ]
  },
  {
   "cell_type": "code",
   "execution_count": 44,
   "metadata": {},
   "outputs": [
    {
     "data": {
      "text/plain": [
       "Text(0.5, 1.0, 'Confusion Matrix Predicting\\nPositive or Negative Sentiment')"
      ]
     },
     "execution_count": 44,
     "metadata": {},
     "output_type": "execute_result"
    },
    {
     "data": {
      "image/png": "[encoded data removed]",
      "text/plain": [
       "<Figure size 432x288 with 2 Axes>"
      ]
     },
     "metadata": {
      "needs_background": "light"
     },
     "output_type": "display_data"
    }
   ],
   "source": [
    "plot_confusion_matrix(grid_rf_t, Z_test_t, y_test_t, cmap = 'Blues', values_format = 'd');\n",
    "plt.title(\"Confusion Matrix Predicting\\nPositive or Negative Sentiment\", fontsize=12)"
   ]
  },
  {
   "cell_type": "markdown",
   "metadata": {},
   "source": [
    "> This confusion matrix using scaled data and random forest classifier shows that the model had difficulty with specificity. It was not able to accurately predict negative sentiment in the twitter data with 1168 false positive predictions. In fact, with the baseline data of 0.76 positive sentiments, this model though it was better to simply predict all positive sentiments and 0 negative sentiments. By predicting only positive values, this model accounted for 0.76 of the data."
   ]
  },
  {
   "cell_type": "code",
   "execution_count": 45,
   "metadata": {},
   "outputs": [],
   "source": [
    "# Code adapted from global lect: Classification Metrics II\n",
    "\n",
    "pred_proba_rf_t = [i[1] for i in grid_rf_t.predict_proba(Z_test_t)]\n",
    "\n",
    "pred_df_rf_t = pd.DataFrame({'true_values': y_test_t,\n",
    "                        'pred_probs':pred_proba_rf_t})"
   ]
  },
  {
   "cell_type": "code",
   "execution_count": 46,
   "metadata": {},
   "outputs": [
    {
     "data": {
      "image/png": "[encoded data removed]",
      "text/plain": [
       "<Figure size 936x648 with 1 Axes>"
      ]
     },
     "metadata": {
      "needs_background": "light"
     },
     "output_type": "display_data"
    }
   ],
   "source": [
    "# Code adapted from global lect: Classification Metrics II\n",
    "\n",
    "# Create figure.\n",
    "plt.figure(figsize = (13,9))\n",
    "\n",
    "# Create two histograms of observations.\n",
    "plt.hist(pred_df_rf_t[pred_df_rf_t['true_values'] == 'neg']['pred_probs'],\n",
    "         bins=25,\n",
    "         color='purple',\n",
    "         alpha = 0.6,\n",
    "         label='Actual Outcome = neg')\n",
    "plt.hist(pred_df_rf_t[pred_df_rf_t['true_values'] == 'pos']['pred_probs'],\n",
    "         bins=25,\n",
    "         color='orange',\n",
    "         alpha = 0.6,\n",
    "         label='Actual Outcome = pos')\n",
    "\n",
    "# Add vertical line at P(Outcome = 1) = 0.5.\n",
    "plt.vlines(x=0.5,\n",
    "           ymin = 0,\n",
    "           ymax = 250,\n",
    "           color='black',\n",
    "           linestyle = '--')\n",
    "\n",
    "# Label axes.\n",
    "plt.title('Distribution of P(Outcome = 1)', fontsize=22)\n",
    "plt.ylabel('Frequency', fontsize=18)\n",
    "plt.xlabel('Predicted Probability that Outcome = 1', fontsize=18)\n",
    "\n",
    "# Create legend.\n",
    "plt.legend(fontsize=20);"
   ]
  },
  {
   "cell_type": "markdown",
   "metadata": {},
   "source": [
    "## Predicting Death Totals with Twitter Data"
   ]
  },
  {
   "cell_type": "markdown",
   "metadata": {},
   "source": [
    "### Linear Regression Twitter"
   ]
  },
  {
   "cell_type": "code",
   "execution_count": 47,
   "metadata": {},
   "outputs": [],
   "source": [
    "X2_t = twitter.drop(columns = ['text', 'death_tot', 'pos_or_neg_sent'])\n",
    "y2_t = twitter['death_tot']"
   ]
  },
  {
   "cell_type": "code",
   "execution_count": 48,
   "metadata": {},
   "outputs": [],
   "source": [
    "X_train2_t, X_test2_t, y_train2_t, y_test2_t = train_test_split(X2_t, y2_t, random_state = 3000)"
   ]
  },
  {
   "cell_type": "code",
   "execution_count": 49,
   "metadata": {},
   "outputs": [],
   "source": [
    "ss2_t = StandardScaler()\n",
    "\n",
    "Z_train2_t = ss2_t.fit_transform(X_train2_t)\n",
    "Z_test2_t = ss2_t.transform(X_test2_t)"
   ]
  },
  {
   "cell_type": "code",
   "execution_count": 50,
   "metadata": {},
   "outputs": [
    {
     "data": {
      "text/plain": [
       "LinearRegression()"
      ]
     },
     "execution_count": 50,
     "metadata": {},
     "output_type": "execute_result"
    }
   ],
   "source": [
    "linreg_t = LinearRegression()\n",
    "\n",
    "linreg_t.fit(Z_train2_t, y_train2_t)"
   ]
  },
  {
   "cell_type": "code",
   "execution_count": 51,
   "metadata": {},
   "outputs": [
    {
     "data": {
      "text/plain": [
       "(0.9803303966628729, 0.9542964304432938)"
      ]
     },
     "execution_count": 51,
     "metadata": {},
     "output_type": "execute_result"
    }
   ],
   "source": [
    "linreg_t.score(Z_train2_t, y_train2_t), linreg.score(Z_test2_t, y_test2_t)"
   ]
  },
  {
   "cell_type": "markdown",
   "metadata": {},
   "source": [
    "> Linear regression was used to predict the death totals from each post using sentiment scores, policy data, and other health data like the number of tests positive as features. With this data, the model was able to predict death totals with an R^2 score of 0.95. This model was just slightly overfit."
   ]
  },
  {
   "cell_type": "markdown",
   "metadata": {},
   "source": [
    "# Recommendations and Conclusions"
   ]
  },
  {
   "cell_type": "markdown",
   "metadata": {},
   "source": [
    "COVID-19 continues to evolve as more information is gathered and new policies are set in place. A lot of the information gather can be used in various ways for EDA and data visualization purposes. The models were not able to predict sentiments based on health and policy data with a high accuracy score. However, the models were able to predict total deaths using sentiments, health, and policy data with high $R^2$ scores. Further exploration into the data is recommended. Some recommendations and next steps for the continuation of this project include, but are not limited to, exploring data prior to July 2020 as well as in future months, analysing the policy information by state, further exploring correlation between health and policy mandates, and deeper exploration between the correlation of sentiment scores and policy information. Additionally, Reddit and Twitter were the only social media platforms assessed in the project. Future projects may find it beneficial to explore other social media platforms."
   ]
  },
  {
   "cell_type": "code",
   "execution_count": null,
   "metadata": {},
   "outputs": [],
   "source": []
  }
 ],
 "metadata": {
  "kernelspec": {
   "display_name": "Python 3",
   "language": "python",
   "name": "python3"
  },
  "language_info": {
   "codemirror_mode": {
    "name": "ipython",
    "version": 3
   },
   "file_extension": ".py",
   "mimetype": "text/x-python",
   "name": "python",
   "nbconvert_exporter": "python",
   "pygments_lexer": "ipython3",
   "version": "3.7.6"
  }
 },
 "nbformat": 4,
 "nbformat_minor": 4
}
