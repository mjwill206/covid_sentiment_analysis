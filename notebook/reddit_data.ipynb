{
 "cells": [
  {
   "cell_type": "code",
   "execution_count": 1,
   "metadata": {},
   "outputs": [],
   "source": [
    "import pandas as pd\n",
    "import numpy as np\n",
    "import matplotlib.pyplot as plt\n",
    "import requests\n",
    "import time\n",
    "from datetime import datetime"
   ]
  },
  {
   "cell_type": "code",
   "execution_count": 2,
   "metadata": {},
   "outputs": [],
   "source": [
    "def july_reddit(subreddit, count_size, size):\n",
    "    count = 0\n",
    "    reddit_posts = []\n",
    "    \n",
    "    for i in range(1): #Prime the first set of 100 posts to bring in \"before\" param in the while loop\n",
    "        url = \"https://api.pushshift.io/reddit/search/submission\"\n",
    "        params = {\n",
    "            'subreddit': subreddit,\n",
    "            'size': size,\n",
    "            'after': 1593576000}\n",
    "\n",
    "        res = requests.get(url, params)\n",
    "        data = res.json()\n",
    "        posts = data['data']\n",
    "\n",
    "        for i in range(size):\n",
    "            single = posts[i]\n",
    "            reddit_posts.append(single)\n",
    "            \n",
    "        count += 1 #Count now equals 1 for the first set of 100 posts\n",
    "    \n",
    "        while count < (count_size):\n",
    "        # While loop will bring in count_size sets of 100 posts each. reddit_posts = count_size * 100\n",
    "            params2 = {\n",
    "                'subreddit': subreddit,\n",
    "                'size': size,\n",
    "                'after': int(reddit_posts[-1]['created_utc'])}\n",
    "\n",
    "            res2 = requests.get(url, params2)\n",
    "            data2 = res2.json()\n",
    "            posts2 = data2['data']\n",
    "\n",
    "            for i in range(size):\n",
    "                single2 = posts2[i]\n",
    "                reddit_posts.append(single2)\n",
    "\n",
    "            #progress printouts\n",
    "            #Code adapted from global lect: NLP I\n",
    "            if (count + 1) % 5 == 0:\n",
    "                print(f'Round {count + 1} of {count_size}') #printing checks to help visualize that the fxn is working\n",
    "            count += 1\n",
    "            time.sleep(2)\n",
    "    \n",
    "    print(\"Creating dataframe...\")\n",
    "    df = pd.DataFrame(data = reddit_posts)      \n",
    "    df = df[['subreddit', 'author', 'title', 'selftext', 'score', 'created_utc']]\n",
    "\n",
    "    \n",
    "    print(\"Done\")\n",
    "    return df\n",
    "\n",
    "# Returns DataFrame. Set equal to a variable!"
   ]
  },
  {
   "cell_type": "markdown",
   "metadata": {},
   "source": [
    "# Alabama"
   ]
  },
  {
   "cell_type": "code",
   "execution_count": 3,
   "metadata": {},
   "outputs": [
    {
     "name": "stdout",
     "output_type": "stream",
     "text": [
      "Creating dataframe...\n",
      "Done\n"
     ]
    }
   ],
   "source": [
    "alabama = july_reddit('CoronavirusAlabama', 4, 100)"
   ]
  },
  {
   "cell_type": "code",
   "execution_count": 4,
   "metadata": {},
   "outputs": [
    {
     "data": {
      "text/plain": [
       "(400, 6)"
      ]
     },
     "execution_count": 4,
     "metadata": {},
     "output_type": "execute_result"
    }
   ],
   "source": [
    "alabama.shape"
   ]
  },
  {
   "cell_type": "code",
   "execution_count": 5,
   "metadata": {},
   "outputs": [],
   "source": [
    "alabama['state'] = 'alabama'"
   ]
  },
  {
   "cell_type": "markdown",
   "metadata": {},
   "source": [
    "# Alaska"
   ]
  },
  {
   "cell_type": "code",
   "execution_count": 6,
   "metadata": {},
   "outputs": [
    {
     "name": "stdout",
     "output_type": "stream",
     "text": [
      "Creating dataframe...\n",
      "Done\n"
     ]
    }
   ],
   "source": [
    "alaska = july_reddit('Covid19Alaska', 1, 2)"
   ]
  },
  {
   "cell_type": "code",
   "execution_count": 7,
   "metadata": {},
   "outputs": [
    {
     "data": {
      "text/plain": [
       "(2, 6)"
      ]
     },
     "execution_count": 7,
     "metadata": {},
     "output_type": "execute_result"
    }
   ],
   "source": [
    "alaska.shape"
   ]
  },
  {
   "cell_type": "code",
   "execution_count": 8,
   "metadata": {},
   "outputs": [],
   "source": [
    "alaska['state'] = 'alaska'"
   ]
  },
  {
   "cell_type": "markdown",
   "metadata": {},
   "source": [
    "# Arizona"
   ]
  },
  {
   "cell_type": "code",
   "execution_count": 9,
   "metadata": {},
   "outputs": [
    {
     "name": "stdout",
     "output_type": "stream",
     "text": [
      "Round 5 of 9\n",
      "Creating dataframe...\n",
      "Done\n"
     ]
    }
   ],
   "source": [
    "arizona = july_reddit('CoronavirusAZ', 9, 100)"
   ]
  },
  {
   "cell_type": "code",
   "execution_count": 10,
   "metadata": {},
   "outputs": [
    {
     "data": {
      "text/plain": [
       "(900, 6)"
      ]
     },
     "execution_count": 10,
     "metadata": {},
     "output_type": "execute_result"
    }
   ],
   "source": [
    "arizona.shape"
   ]
  },
  {
   "cell_type": "code",
   "execution_count": 11,
   "metadata": {},
   "outputs": [],
   "source": [
    "arizona['state'] = 'arizona'"
   ]
  },
  {
   "cell_type": "markdown",
   "metadata": {},
   "source": [
    "# Arkansas"
   ]
  },
  {
   "cell_type": "code",
   "execution_count": 12,
   "metadata": {},
   "outputs": [
    {
     "name": "stdout",
     "output_type": "stream",
     "text": [
      "Creating dataframe...\n",
      "Done\n"
     ]
    }
   ],
   "source": [
    "arkansas = july_reddit('CoronavirusArkansas', 1, 10)"
   ]
  },
  {
   "cell_type": "code",
   "execution_count": 13,
   "metadata": {},
   "outputs": [
    {
     "data": {
      "text/plain": [
       "(10, 6)"
      ]
     },
     "execution_count": 13,
     "metadata": {},
     "output_type": "execute_result"
    }
   ],
   "source": [
    "arkansas.shape"
   ]
  },
  {
   "cell_type": "code",
   "execution_count": 14,
   "metadata": {},
   "outputs": [],
   "source": [
    "arkansas['state'] = 'arkansas'"
   ]
  },
  {
   "cell_type": "markdown",
   "metadata": {},
   "source": [
    "# California"
   ]
  },
  {
   "cell_type": "code",
   "execution_count": 15,
   "metadata": {},
   "outputs": [
    {
     "name": "stdout",
     "output_type": "stream",
     "text": [
      "Round 5 of 9\n",
      "Creating dataframe...\n",
      "Done\n"
     ]
    }
   ],
   "source": [
    "ca = july_reddit('CoronavirusCA', 9, 100)"
   ]
  },
  {
   "cell_type": "code",
   "execution_count": 16,
   "metadata": {},
   "outputs": [
    {
     "data": {
      "text/plain": [
       "(900, 6)"
      ]
     },
     "execution_count": 16,
     "metadata": {},
     "output_type": "execute_result"
    }
   ],
   "source": [
    "ca.shape"
   ]
  },
  {
   "cell_type": "code",
   "execution_count": 17,
   "metadata": {},
   "outputs": [],
   "source": [
    "ca['state'] = 'california'"
   ]
  },
  {
   "cell_type": "markdown",
   "metadata": {},
   "source": [
    "# Colorado"
   ]
  },
  {
   "cell_type": "code",
   "execution_count": 18,
   "metadata": {},
   "outputs": [
    {
     "name": "stdout",
     "output_type": "stream",
     "text": [
      "Round 5 of 5\n",
      "Creating dataframe...\n",
      "Done\n"
     ]
    }
   ],
   "source": [
    "co = july_reddit('CoronavirusColorado', 5, 100)"
   ]
  },
  {
   "cell_type": "code",
   "execution_count": 19,
   "metadata": {},
   "outputs": [
    {
     "data": {
      "text/plain": [
       "(500, 6)"
      ]
     },
     "execution_count": 19,
     "metadata": {},
     "output_type": "execute_result"
    }
   ],
   "source": [
    "co.shape"
   ]
  },
  {
   "cell_type": "code",
   "execution_count": 20,
   "metadata": {},
   "outputs": [],
   "source": [
    "co['state'] = 'colorado'"
   ]
  },
  {
   "cell_type": "markdown",
   "metadata": {},
   "source": [
    "# Connecticut"
   ]
  },
  {
   "cell_type": "code",
   "execution_count": 21,
   "metadata": {},
   "outputs": [
    {
     "name": "stdout",
     "output_type": "stream",
     "text": [
      "Creating dataframe...\n",
      "Done\n"
     ]
    }
   ],
   "source": [
    "ct = july_reddit('CoronavirusCT', 1, 7)"
   ]
  },
  {
   "cell_type": "code",
   "execution_count": 22,
   "metadata": {},
   "outputs": [
    {
     "data": {
      "text/plain": [
       "(7, 6)"
      ]
     },
     "execution_count": 22,
     "metadata": {},
     "output_type": "execute_result"
    }
   ],
   "source": [
    "ct.shape"
   ]
  },
  {
   "cell_type": "code",
   "execution_count": 23,
   "metadata": {},
   "outputs": [],
   "source": [
    "ct['state'] = 'connecticut'"
   ]
  },
  {
   "cell_type": "markdown",
   "metadata": {},
   "source": [
    "# Delaware"
   ]
  },
  {
   "cell_type": "code",
   "execution_count": 24,
   "metadata": {},
   "outputs": [],
   "source": [
    "# NA: No related reddits. Grouped in with NE states."
   ]
  },
  {
   "cell_type": "markdown",
   "metadata": {},
   "source": [
    "# Florida"
   ]
  },
  {
   "cell_type": "code",
   "execution_count": 25,
   "metadata": {},
   "outputs": [
    {
     "name": "stdout",
     "output_type": "stream",
     "text": [
      "Creating dataframe...\n",
      "Done\n"
     ]
    }
   ],
   "source": [
    "fl = july_reddit('coronavirusflorida', 2, 100)"
   ]
  },
  {
   "cell_type": "code",
   "execution_count": 26,
   "metadata": {},
   "outputs": [
    {
     "data": {
      "text/plain": [
       "(200, 6)"
      ]
     },
     "execution_count": 26,
     "metadata": {},
     "output_type": "execute_result"
    }
   ],
   "source": [
    "fl.shape"
   ]
  },
  {
   "cell_type": "code",
   "execution_count": 27,
   "metadata": {},
   "outputs": [],
   "source": [
    "fl['state'] = 'florida'"
   ]
  },
  {
   "cell_type": "markdown",
   "metadata": {},
   "source": [
    "# Georgia"
   ]
  },
  {
   "cell_type": "code",
   "execution_count": 28,
   "metadata": {},
   "outputs": [
    {
     "name": "stdout",
     "output_type": "stream",
     "text": [
      "Round 5 of 7\n",
      "Creating dataframe...\n",
      "Done\n"
     ]
    }
   ],
   "source": [
    "ga = july_reddit('CoronavirusGA', 7, 100)"
   ]
  },
  {
   "cell_type": "code",
   "execution_count": 29,
   "metadata": {},
   "outputs": [
    {
     "data": {
      "text/plain": [
       "(700, 6)"
      ]
     },
     "execution_count": 29,
     "metadata": {},
     "output_type": "execute_result"
    }
   ],
   "source": [
    "ga.shape"
   ]
  },
  {
   "cell_type": "code",
   "execution_count": 30,
   "metadata": {},
   "outputs": [],
   "source": [
    "ga['state'] = 'georgia'"
   ]
  },
  {
   "cell_type": "markdown",
   "metadata": {},
   "source": [
    "# Hawaii"
   ]
  },
  {
   "cell_type": "code",
   "execution_count": 31,
   "metadata": {},
   "outputs": [
    {
     "name": "stdout",
     "output_type": "stream",
     "text": [
      "Creating dataframe...\n",
      "Done\n"
     ]
    }
   ],
   "source": [
    "hi = july_reddit('coronavirushawaii', 1, 15)"
   ]
  },
  {
   "cell_type": "code",
   "execution_count": 32,
   "metadata": {},
   "outputs": [
    {
     "data": {
      "text/plain": [
       "(15, 6)"
      ]
     },
     "execution_count": 32,
     "metadata": {},
     "output_type": "execute_result"
    }
   ],
   "source": [
    "hi.shape"
   ]
  },
  {
   "cell_type": "code",
   "execution_count": 33,
   "metadata": {},
   "outputs": [],
   "source": [
    "hi['state'] = 'hawaii'"
   ]
  },
  {
   "cell_type": "markdown",
   "metadata": {},
   "source": [
    "# Idaho"
   ]
  },
  {
   "cell_type": "code",
   "execution_count": 34,
   "metadata": {},
   "outputs": [
    {
     "name": "stdout",
     "output_type": "stream",
     "text": [
      "Creating dataframe...\n",
      "Done\n"
     ]
    }
   ],
   "source": [
    "idaho = july_reddit('CoronavirusIdaho', 1, 7)"
   ]
  },
  {
   "cell_type": "code",
   "execution_count": 35,
   "metadata": {},
   "outputs": [
    {
     "data": {
      "text/plain": [
       "(7, 6)"
      ]
     },
     "execution_count": 35,
     "metadata": {},
     "output_type": "execute_result"
    }
   ],
   "source": [
    "idaho.shape"
   ]
  },
  {
   "cell_type": "code",
   "execution_count": 36,
   "metadata": {},
   "outputs": [],
   "source": [
    "idaho['state'] = 'idaho'"
   ]
  },
  {
   "cell_type": "markdown",
   "metadata": {},
   "source": [
    "# Illinois"
   ]
  },
  {
   "cell_type": "code",
   "execution_count": 37,
   "metadata": {},
   "outputs": [
    {
     "name": "stdout",
     "output_type": "stream",
     "text": [
      "Creating dataframe...\n",
      "Done\n"
     ]
    }
   ],
   "source": [
    "il = july_reddit('CoronavirusIllinois', 4, 100)"
   ]
  },
  {
   "cell_type": "code",
   "execution_count": 38,
   "metadata": {},
   "outputs": [
    {
     "data": {
      "text/plain": [
       "(400, 6)"
      ]
     },
     "execution_count": 38,
     "metadata": {},
     "output_type": "execute_result"
    }
   ],
   "source": [
    "il.shape"
   ]
  },
  {
   "cell_type": "code",
   "execution_count": 39,
   "metadata": {},
   "outputs": [],
   "source": [
    "il['state'] = 'illinois'"
   ]
  },
  {
   "cell_type": "markdown",
   "metadata": {},
   "source": [
    "# Indiana"
   ]
  },
  {
   "cell_type": "code",
   "execution_count": 40,
   "metadata": {},
   "outputs": [
    {
     "name": "stdout",
     "output_type": "stream",
     "text": [
      "Creating dataframe...\n",
      "Done\n"
     ]
    }
   ],
   "source": [
    "ind = july_reddit('CoronavirusIndiana', 1, 75)"
   ]
  },
  {
   "cell_type": "code",
   "execution_count": 41,
   "metadata": {},
   "outputs": [
    {
     "data": {
      "text/plain": [
       "(75, 6)"
      ]
     },
     "execution_count": 41,
     "metadata": {},
     "output_type": "execute_result"
    }
   ],
   "source": [
    "ind.shape"
   ]
  },
  {
   "cell_type": "code",
   "execution_count": 42,
   "metadata": {},
   "outputs": [],
   "source": [
    "ind['state'] = 'indiana'"
   ]
  },
  {
   "cell_type": "markdown",
   "metadata": {},
   "source": [
    "# Iowa"
   ]
  },
  {
   "cell_type": "code",
   "execution_count": 43,
   "metadata": {},
   "outputs": [
    {
     "name": "stdout",
     "output_type": "stream",
     "text": [
      "Creating dataframe...\n",
      "Done\n"
     ]
    }
   ],
   "source": [
    "ia = july_reddit('CoronavirusIA', 1, 5)"
   ]
  },
  {
   "cell_type": "code",
   "execution_count": 44,
   "metadata": {},
   "outputs": [
    {
     "data": {
      "text/plain": [
       "(5, 6)"
      ]
     },
     "execution_count": 44,
     "metadata": {},
     "output_type": "execute_result"
    }
   ],
   "source": [
    "ia.shape"
   ]
  },
  {
   "cell_type": "code",
   "execution_count": 45,
   "metadata": {},
   "outputs": [],
   "source": [
    "ia['state'] = 'iowa'"
   ]
  },
  {
   "cell_type": "markdown",
   "metadata": {},
   "source": [
    "# Kansas"
   ]
  },
  {
   "cell_type": "code",
   "execution_count": 46,
   "metadata": {},
   "outputs": [
    {
     "name": "stdout",
     "output_type": "stream",
     "text": [
      "Creating dataframe...\n",
      "Done\n"
     ]
    }
   ],
   "source": [
    "ks = july_reddit('CoronavirusKansas', 1, 5)"
   ]
  },
  {
   "cell_type": "code",
   "execution_count": 47,
   "metadata": {},
   "outputs": [
    {
     "data": {
      "text/plain": [
       "(5, 6)"
      ]
     },
     "execution_count": 47,
     "metadata": {},
     "output_type": "execute_result"
    }
   ],
   "source": [
    "ks.shape"
   ]
  },
  {
   "cell_type": "code",
   "execution_count": 48,
   "metadata": {},
   "outputs": [],
   "source": [
    "ks['state'] = 'kansas'"
   ]
  },
  {
   "cell_type": "markdown",
   "metadata": {},
   "source": [
    "# Kentucky"
   ]
  },
  {
   "cell_type": "code",
   "execution_count": 49,
   "metadata": {},
   "outputs": [
    {
     "name": "stdout",
     "output_type": "stream",
     "text": [
      "Creating dataframe...\n",
      "Done\n"
     ]
    }
   ],
   "source": [
    "ky = july_reddit('Coronavirus_KY', 1, 100)"
   ]
  },
  {
   "cell_type": "code",
   "execution_count": 50,
   "metadata": {},
   "outputs": [
    {
     "data": {
      "text/plain": [
       "(100, 6)"
      ]
     },
     "execution_count": 50,
     "metadata": {},
     "output_type": "execute_result"
    }
   ],
   "source": [
    "ky.shape"
   ]
  },
  {
   "cell_type": "code",
   "execution_count": 51,
   "metadata": {},
   "outputs": [],
   "source": [
    "ky['state'] = 'kentucky'"
   ]
  },
  {
   "cell_type": "markdown",
   "metadata": {},
   "source": [
    "# Louisiana"
   ]
  },
  {
   "cell_type": "code",
   "execution_count": 52,
   "metadata": {},
   "outputs": [
    {
     "name": "stdout",
     "output_type": "stream",
     "text": [
      "Creating dataframe...\n",
      "Done\n"
     ]
    }
   ],
   "source": [
    "la = july_reddit('Coronaviruslouisiana', 4, 100)"
   ]
  },
  {
   "cell_type": "code",
   "execution_count": 53,
   "metadata": {},
   "outputs": [
    {
     "data": {
      "text/plain": [
       "(400, 6)"
      ]
     },
     "execution_count": 53,
     "metadata": {},
     "output_type": "execute_result"
    }
   ],
   "source": [
    "la.shape"
   ]
  },
  {
   "cell_type": "code",
   "execution_count": 54,
   "metadata": {},
   "outputs": [],
   "source": [
    "la['state'] = 'louisiana'"
   ]
  },
  {
   "cell_type": "markdown",
   "metadata": {},
   "source": [
    "# Maine"
   ]
  },
  {
   "cell_type": "code",
   "execution_count": 55,
   "metadata": {},
   "outputs": [
    {
     "name": "stdout",
     "output_type": "stream",
     "text": [
      "Creating dataframe...\n",
      "Done\n"
     ]
    }
   ],
   "source": [
    "me = july_reddit('CoronavirusMaine', 1, 15)"
   ]
  },
  {
   "cell_type": "code",
   "execution_count": 56,
   "metadata": {},
   "outputs": [
    {
     "data": {
      "text/plain": [
       "(15, 6)"
      ]
     },
     "execution_count": 56,
     "metadata": {},
     "output_type": "execute_result"
    }
   ],
   "source": [
    "me.shape"
   ]
  },
  {
   "cell_type": "code",
   "execution_count": 57,
   "metadata": {},
   "outputs": [],
   "source": [
    "me['state'] = 'maine'"
   ]
  },
  {
   "cell_type": "markdown",
   "metadata": {},
   "source": [
    "# Maryland"
   ]
  },
  {
   "cell_type": "code",
   "execution_count": 58,
   "metadata": {},
   "outputs": [
    {
     "name": "stdout",
     "output_type": "stream",
     "text": [
      "Creating dataframe...\n",
      "Done\n"
     ]
    }
   ],
   "source": [
    "md = july_reddit('CoronaVirusMaryland', 1, 2)"
   ]
  },
  {
   "cell_type": "code",
   "execution_count": 59,
   "metadata": {},
   "outputs": [
    {
     "data": {
      "text/plain": [
       "(2, 6)"
      ]
     },
     "execution_count": 59,
     "metadata": {},
     "output_type": "execute_result"
    }
   ],
   "source": [
    "md.shape"
   ]
  },
  {
   "cell_type": "code",
   "execution_count": 60,
   "metadata": {},
   "outputs": [],
   "source": [
    "md['state'] = 'maryland'"
   ]
  },
  {
   "cell_type": "markdown",
   "metadata": {},
   "source": [
    "# Massachusetts"
   ]
  },
  {
   "cell_type": "code",
   "execution_count": 61,
   "metadata": {},
   "outputs": [
    {
     "name": "stdout",
     "output_type": "stream",
     "text": [
      "Creating dataframe...\n",
      "Done\n"
     ]
    }
   ],
   "source": [
    "ma = july_reddit('CoronavirusMa', 4, 100)"
   ]
  },
  {
   "cell_type": "code",
   "execution_count": 62,
   "metadata": {},
   "outputs": [
    {
     "data": {
      "text/plain": [
       "(400, 6)"
      ]
     },
     "execution_count": 62,
     "metadata": {},
     "output_type": "execute_result"
    }
   ],
   "source": [
    "ma.shape"
   ]
  },
  {
   "cell_type": "code",
   "execution_count": 63,
   "metadata": {},
   "outputs": [],
   "source": [
    "ma['state'] = 'massachusetts'"
   ]
  },
  {
   "cell_type": "markdown",
   "metadata": {},
   "source": [
    "# Michigan"
   ]
  },
  {
   "cell_type": "code",
   "execution_count": 64,
   "metadata": {},
   "outputs": [
    {
     "name": "stdout",
     "output_type": "stream",
     "text": [
      "Round 5 of 6\n",
      "Creating dataframe...\n",
      "Done\n"
     ]
    }
   ],
   "source": [
    "mi = july_reddit('CoronavirusMichigan', 6, 100)"
   ]
  },
  {
   "cell_type": "code",
   "execution_count": 65,
   "metadata": {},
   "outputs": [
    {
     "data": {
      "text/plain": [
       "(600, 6)"
      ]
     },
     "execution_count": 65,
     "metadata": {},
     "output_type": "execute_result"
    }
   ],
   "source": [
    "mi.shape"
   ]
  },
  {
   "cell_type": "code",
   "execution_count": 66,
   "metadata": {},
   "outputs": [],
   "source": [
    "mi['state'] = 'michigan'"
   ]
  },
  {
   "cell_type": "markdown",
   "metadata": {},
   "source": [
    "# Minnesota"
   ]
  },
  {
   "cell_type": "code",
   "execution_count": 67,
   "metadata": {},
   "outputs": [
    {
     "name": "stdout",
     "output_type": "stream",
     "text": [
      "Creating dataframe...\n",
      "Done\n"
     ]
    }
   ],
   "source": [
    "mn = july_reddit('CoronavirusMN', 1, 100)"
   ]
  },
  {
   "cell_type": "code",
   "execution_count": 68,
   "metadata": {},
   "outputs": [
    {
     "data": {
      "text/plain": [
       "(100, 6)"
      ]
     },
     "execution_count": 68,
     "metadata": {},
     "output_type": "execute_result"
    }
   ],
   "source": [
    "mn.shape"
   ]
  },
  {
   "cell_type": "code",
   "execution_count": 69,
   "metadata": {},
   "outputs": [],
   "source": [
    "mn['state'] = 'minnesota'"
   ]
  },
  {
   "cell_type": "markdown",
   "metadata": {},
   "source": [
    "# Mississippi"
   ]
  },
  {
   "cell_type": "code",
   "execution_count": 70,
   "metadata": {},
   "outputs": [
    {
     "name": "stdout",
     "output_type": "stream",
     "text": [
      "Creating dataframe...\n",
      "Done\n"
     ]
    }
   ],
   "source": [
    "ms = july_reddit('COVIDMississippi', 1, 2)"
   ]
  },
  {
   "cell_type": "code",
   "execution_count": 71,
   "metadata": {},
   "outputs": [
    {
     "data": {
      "text/plain": [
       "(2, 6)"
      ]
     },
     "execution_count": 71,
     "metadata": {},
     "output_type": "execute_result"
    }
   ],
   "source": [
    "ms.shape"
   ]
  },
  {
   "cell_type": "code",
   "execution_count": 72,
   "metadata": {},
   "outputs": [],
   "source": [
    "ms['state'] = 'mississippi'"
   ]
  },
  {
   "cell_type": "markdown",
   "metadata": {},
   "source": [
    "# Missouri"
   ]
  },
  {
   "cell_type": "code",
   "execution_count": 73,
   "metadata": {},
   "outputs": [
    {
     "name": "stdout",
     "output_type": "stream",
     "text": [
      "Creating dataframe...\n",
      "Done\n"
     ]
    }
   ],
   "source": [
    "mo = july_reddit('CoronavirusMissouri', 1, 10)"
   ]
  },
  {
   "cell_type": "code",
   "execution_count": 74,
   "metadata": {},
   "outputs": [
    {
     "data": {
      "text/plain": [
       "(10, 6)"
      ]
     },
     "execution_count": 74,
     "metadata": {},
     "output_type": "execute_result"
    }
   ],
   "source": [
    "mo.shape"
   ]
  },
  {
   "cell_type": "code",
   "execution_count": 75,
   "metadata": {},
   "outputs": [],
   "source": [
    "mo['state'] = 'missouri'"
   ]
  },
  {
   "cell_type": "markdown",
   "metadata": {},
   "source": [
    "# Concat Dataframes"
   ]
  },
  {
   "cell_type": "code",
   "execution_count": 76,
   "metadata": {},
   "outputs": [],
   "source": [
    "first_25_states = pd.concat([alabama, alaska, arizona, arkansas, ca, co, ct, fl, ga, hi, idaho, il, ind, ia, ks, ky, la, me, md, ma, mi, mn, ms, mo])"
   ]
  },
  {
   "cell_type": "code",
   "execution_count": 77,
   "metadata": {},
   "outputs": [
    {
     "data": {
      "text/html": [
       "<div>\n",
       "<style scoped>\n",
       "    .dataframe tbody tr th:only-of-type {\n",
       "        vertical-align: middle;\n",
       "    }\n",
       "\n",
       "    .dataframe tbody tr th {\n",
       "        vertical-align: top;\n",
       "    }\n",
       "\n",
       "    .dataframe thead th {\n",
       "        text-align: right;\n",
       "    }\n",
       "</style>\n",
       "<table border=\"1\" class=\"dataframe\">\n",
       "  <thead>\n",
       "    <tr style=\"text-align: right;\">\n",
       "      <th></th>\n",
       "      <th>subreddit</th>\n",
       "      <th>author</th>\n",
       "      <th>title</th>\n",
       "      <th>selftext</th>\n",
       "      <th>score</th>\n",
       "      <th>created_utc</th>\n",
       "      <th>state</th>\n",
       "    </tr>\n",
       "  </thead>\n",
       "  <tbody>\n",
       "    <tr>\n",
       "      <th>0</th>\n",
       "      <td>CoronavirusAlabama</td>\n",
       "      <td>guarea</td>\n",
       "      <td>After public apology, Montgomery councilman’s ...</td>\n",
       "      <td></td>\n",
       "      <td>1</td>\n",
       "      <td>1593606973</td>\n",
       "      <td>alabama</td>\n",
       "    </tr>\n",
       "    <tr>\n",
       "      <th>1</th>\n",
       "      <td>CoronavirusAlabama</td>\n",
       "      <td>guarea</td>\n",
       "      <td>University of Alabama graduate tells his COVID...</td>\n",
       "      <td></td>\n",
       "      <td>1</td>\n",
       "      <td>1593607132</td>\n",
       "      <td>alabama</td>\n",
       "    </tr>\n",
       "    <tr>\n",
       "      <th>2</th>\n",
       "      <td>CoronavirusAlabama</td>\n",
       "      <td>guarea</td>\n",
       "      <td>Tuscaloosa adopts face mask law for public spaces</td>\n",
       "      <td></td>\n",
       "      <td>1</td>\n",
       "      <td>1593608257</td>\n",
       "      <td>alabama</td>\n",
       "    </tr>\n",
       "    <tr>\n",
       "      <th>3</th>\n",
       "      <td>CoronavirusAlabama</td>\n",
       "      <td>guarea</td>\n",
       "      <td>Coin shortage due to coronavirus: What’s happe...</td>\n",
       "      <td></td>\n",
       "      <td>0</td>\n",
       "      <td>1593615060</td>\n",
       "      <td>alabama</td>\n",
       "    </tr>\n",
       "    <tr>\n",
       "      <th>4</th>\n",
       "      <td>CoronavirusAlabama</td>\n",
       "      <td>houyam-love</td>\n",
       "      <td>[Study Results] How is Coronavirus Pandemic Af...</td>\n",
       "      <td></td>\n",
       "      <td>1</td>\n",
       "      <td>1593621148</td>\n",
       "      <td>alabama</td>\n",
       "    </tr>\n",
       "    <tr>\n",
       "      <th>...</th>\n",
       "      <td>...</td>\n",
       "      <td>...</td>\n",
       "      <td>...</td>\n",
       "      <td>...</td>\n",
       "      <td>...</td>\n",
       "      <td>...</td>\n",
       "      <td>...</td>\n",
       "    </tr>\n",
       "    <tr>\n",
       "      <th>5</th>\n",
       "      <td>CoronavirusMissouri</td>\n",
       "      <td>jetrbby80316</td>\n",
       "      <td>This is no time to get lax. Wear your mask.</td>\n",
       "      <td></td>\n",
       "      <td>1</td>\n",
       "      <td>1595883755</td>\n",
       "      <td>missouri</td>\n",
       "    </tr>\n",
       "    <tr>\n",
       "      <th>6</th>\n",
       "      <td>CoronavirusMissouri</td>\n",
       "      <td>BrightscapesArt</td>\n",
       "      <td>Art Project: Having Fun During Coronavirus</td>\n",
       "      <td></td>\n",
       "      <td>1</td>\n",
       "      <td>1595940287</td>\n",
       "      <td>missouri</td>\n",
       "    </tr>\n",
       "    <tr>\n",
       "      <th>7</th>\n",
       "      <td>CoronavirusMissouri</td>\n",
       "      <td>CruiseChallenge</td>\n",
       "      <td>Missouri now running with the big boys in a ra...</td>\n",
       "      <td>Missouri now running with the big boys in a r...</td>\n",
       "      <td>1</td>\n",
       "      <td>1596070046</td>\n",
       "      <td>missouri</td>\n",
       "    </tr>\n",
       "    <tr>\n",
       "      <th>8</th>\n",
       "      <td>CoronavirusMissouri</td>\n",
       "      <td>jetrbby80316</td>\n",
       "      <td>Fauci now urges Americans to wear goggles. I a...</td>\n",
       "      <td></td>\n",
       "      <td>1</td>\n",
       "      <td>1596132658</td>\n",
       "      <td>missouri</td>\n",
       "    </tr>\n",
       "    <tr>\n",
       "      <th>9</th>\n",
       "      <td>CoronavirusMissouri</td>\n",
       "      <td>BrightscapesArt</td>\n",
       "      <td>Building A Fire Pit: Having Fun During Coronav...</td>\n",
       "      <td></td>\n",
       "      <td>1</td>\n",
       "      <td>1596546860</td>\n",
       "      <td>missouri</td>\n",
       "    </tr>\n",
       "  </tbody>\n",
       "</table>\n",
       "<p>5755 rows × 7 columns</p>\n",
       "</div>"
      ],
      "text/plain": [
       "              subreddit           author  \\\n",
       "0    CoronavirusAlabama           guarea   \n",
       "1    CoronavirusAlabama           guarea   \n",
       "2    CoronavirusAlabama           guarea   \n",
       "3    CoronavirusAlabama           guarea   \n",
       "4    CoronavirusAlabama      houyam-love   \n",
       "..                  ...              ...   \n",
       "5   CoronavirusMissouri     jetrbby80316   \n",
       "6   CoronavirusMissouri  BrightscapesArt   \n",
       "7   CoronavirusMissouri  CruiseChallenge   \n",
       "8   CoronavirusMissouri     jetrbby80316   \n",
       "9   CoronavirusMissouri  BrightscapesArt   \n",
       "\n",
       "                                                title  \\\n",
       "0   After public apology, Montgomery councilman’s ...   \n",
       "1   University of Alabama graduate tells his COVID...   \n",
       "2   Tuscaloosa adopts face mask law for public spaces   \n",
       "3   Coin shortage due to coronavirus: What’s happe...   \n",
       "4   [Study Results] How is Coronavirus Pandemic Af...   \n",
       "..                                                ...   \n",
       "5         This is no time to get lax. Wear your mask.   \n",
       "6          Art Project: Having Fun During Coronavirus   \n",
       "7   Missouri now running with the big boys in a ra...   \n",
       "8   Fauci now urges Americans to wear goggles. I a...   \n",
       "9   Building A Fire Pit: Having Fun During Coronav...   \n",
       "\n",
       "                                             selftext  score  created_utc  \\\n",
       "0                                                          1   1593606973   \n",
       "1                                                          1   1593607132   \n",
       "2                                                          1   1593608257   \n",
       "3                                                          0   1593615060   \n",
       "4                                                          1   1593621148   \n",
       "..                                                ...    ...          ...   \n",
       "5                                                          1   1595883755   \n",
       "6                                                          1   1595940287   \n",
       "7    Missouri now running with the big boys in a r...      1   1596070046   \n",
       "8                                                          1   1596132658   \n",
       "9                                                          1   1596546860   \n",
       "\n",
       "       state  \n",
       "0    alabama  \n",
       "1    alabama  \n",
       "2    alabama  \n",
       "3    alabama  \n",
       "4    alabama  \n",
       "..       ...  \n",
       "5   missouri  \n",
       "6   missouri  \n",
       "7   missouri  \n",
       "8   missouri  \n",
       "9   missouri  \n",
       "\n",
       "[5755 rows x 7 columns]"
      ]
     },
     "execution_count": 77,
     "metadata": {},
     "output_type": "execute_result"
    }
   ],
   "source": [
    "first_25_states"
   ]
  },
  {
   "cell_type": "code",
   "execution_count": 78,
   "metadata": {
    "scrolled": true
   },
   "outputs": [
    {
     "data": {
      "text/plain": [
       "subreddit       0\n",
       "author          0\n",
       "title           0\n",
       "selftext       23\n",
       "score           0\n",
       "created_utc     0\n",
       "state           0\n",
       "dtype: int64"
      ]
     },
     "execution_count": 78,
     "metadata": {},
     "output_type": "execute_result"
    }
   ],
   "source": [
    "first_25_states.isna().sum()"
   ]
  },
  {
   "cell_type": "markdown",
   "metadata": {},
   "source": [
    "# Changing Time"
   ]
  },
  {
   "cell_type": "code",
   "execution_count": 79,
   "metadata": {},
   "outputs": [],
   "source": [
    "def get_time(utc_cell):\n",
    "    if utc_cell != np.nan:\n",
    "        return str(datetime.fromtimestamp(utc_cell))\n",
    "        #code adapted from https://www.programiz.com/python-programming/datetime/timestamp-datetime\n",
    "    else:\n",
    "        return np.nan"
   ]
  },
  {
   "cell_type": "code",
   "execution_count": 80,
   "metadata": {},
   "outputs": [],
   "source": [
    "first_25_states['eastern_time'] = first_25_states['created_utc'].map(get_time)"
   ]
  },
  {
   "cell_type": "code",
   "execution_count": 81,
   "metadata": {},
   "outputs": [],
   "source": [
    "# first_25_states.to_csv('./data/first_25_states.csv', index=False)"
   ]
  }
 ],
 "metadata": {
  "kernelspec": {
   "display_name": "Python 3",
   "language": "python",
   "name": "python3"
  },
  "language_info": {
   "codemirror_mode": {
    "name": "ipython",
    "version": 3
   },
   "file_extension": ".py",
   "mimetype": "text/x-python",
   "name": "python",
   "nbconvert_exporter": "python",
   "pygments_lexer": "ipython3",
   "version": "3.7.6"
  }
 },
 "nbformat": 4,
 "nbformat_minor": 4
}
